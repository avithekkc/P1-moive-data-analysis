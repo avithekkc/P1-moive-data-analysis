{
 "cells": [
  {
   "cell_type": "markdown",
   "metadata": {},
   "source": [
    "# Data Visualization for Analysis on Movies"
   ]
  },
  {
   "cell_type": "markdown",
   "metadata": {},
   "source": [
    "\n",
    "<img src=\"images/theater_viz.JPG\" alt=\"Drawing\" style=\"width: 400px;\"/>"
   ]
  },
  {
   "cell_type": "markdown",
   "metadata": {},
   "source": [
    "_Grab your seat put on your glasses and Let's start the visualization_"
   ]
  },
  {
   "cell_type": "markdown",
   "metadata": {},
   "source": [
    "### Import required libraries"
   ]
  },
  {
   "cell_type": "code",
   "execution_count": 13,
   "metadata": {},
   "outputs": [],
   "source": [
    "import pandas as pd\n",
    "import numpy as np\n",
    "import operator\n",
    "\n",
    "import matplotlib.pyplot as plt\n",
    "import seaborn as sns\n",
    "from scipy.stats import zscore\n",
    "\n",
    "# set styling\n",
    "sns.set_palette(\"magma\")\n",
    "sns.set_style(\"dark\")"
   ]
  },
  {
   "cell_type": "markdown",
   "metadata": {},
   "source": [
    "### Load the Data"
   ]
  },
  {
   "cell_type": "code",
   "execution_count": 14,
   "metadata": {},
   "outputs": [
    {
     "data": {
      "text/html": [
       "<div>\n",
       "<style scoped>\n",
       "    .dataframe tbody tr th:only-of-type {\n",
       "        vertical-align: middle;\n",
       "    }\n",
       "\n",
       "    .dataframe tbody tr th {\n",
       "        vertical-align: top;\n",
       "    }\n",
       "\n",
       "    .dataframe thead th {\n",
       "        text-align: right;\n",
       "    }\n",
       "</style>\n",
       "<table border=\"1\" class=\"dataframe\">\n",
       "  <thead>\n",
       "    <tr style=\"text-align: right;\">\n",
       "      <th></th>\n",
       "      <th>title</th>\n",
       "      <th>runtime</th>\n",
       "      <th>genres</th>\n",
       "      <th>rating</th>\n",
       "      <th>director</th>\n",
       "      <th>producer</th>\n",
       "      <th>cinematographer</th>\n",
       "      <th>writer</th>\n",
       "      <th>budget</th>\n",
       "      <th>domestic</th>\n",
       "      <th>...</th>\n",
       "      <th>Sport</th>\n",
       "      <th>War</th>\n",
       "      <th>Documentary</th>\n",
       "      <th>Musical</th>\n",
       "      <th>title.1</th>\n",
       "      <th>runtime.1</th>\n",
       "      <th>rating.1</th>\n",
       "      <th>budget.1</th>\n",
       "      <th>domestic.1</th>\n",
       "      <th>worldwide.1</th>\n",
       "    </tr>\n",
       "  </thead>\n",
       "  <tbody>\n",
       "    <tr>\n",
       "      <th>0</th>\n",
       "      <td>Lincoln</td>\n",
       "      <td>150.0</td>\n",
       "      <td>Biography,Drama,History</td>\n",
       "      <td>7.4</td>\n",
       "      <td>Steven Spielberg</td>\n",
       "      <td>Kathleen Kennedy</td>\n",
       "      <td>Janusz Kaminski</td>\n",
       "      <td>Tony Kushner</td>\n",
       "      <td>65000000.0</td>\n",
       "      <td>182207973.0</td>\n",
       "      <td>...</td>\n",
       "      <td>0</td>\n",
       "      <td>0</td>\n",
       "      <td>0</td>\n",
       "      <td>0</td>\n",
       "      <td>NaN</td>\n",
       "      <td>NaN</td>\n",
       "      <td>NaN</td>\n",
       "      <td>NaN</td>\n",
       "      <td>NaN</td>\n",
       "      <td>NaN</td>\n",
       "    </tr>\n",
       "    <tr>\n",
       "      <th>1</th>\n",
       "      <td>Season of the Witch</td>\n",
       "      <td>95.0</td>\n",
       "      <td>Action,Adventure,Fantasy</td>\n",
       "      <td>5.4</td>\n",
       "      <td>Dominic Sena</td>\n",
       "      <td>Charles Roven</td>\n",
       "      <td>Amir Mokri</td>\n",
       "      <td>Bragi F. Schut</td>\n",
       "      <td>40000000.0</td>\n",
       "      <td>24827228.0</td>\n",
       "      <td>...</td>\n",
       "      <td>0</td>\n",
       "      <td>0</td>\n",
       "      <td>0</td>\n",
       "      <td>0</td>\n",
       "      <td>NaN</td>\n",
       "      <td>NaN</td>\n",
       "      <td>NaN</td>\n",
       "      <td>NaN</td>\n",
       "      <td>NaN</td>\n",
       "      <td>NaN</td>\n",
       "    </tr>\n",
       "    <tr>\n",
       "      <th>2</th>\n",
       "      <td>Dallas Buyers Club</td>\n",
       "      <td>117.0</td>\n",
       "      <td>Biography,Drama</td>\n",
       "      <td>8.0</td>\n",
       "      <td>Jean-Marc Vallée</td>\n",
       "      <td>Rachel Winter</td>\n",
       "      <td>Yves Bélanger</td>\n",
       "      <td>Craig Borten</td>\n",
       "      <td>5000000.0</td>\n",
       "      <td>27298285.0</td>\n",
       "      <td>...</td>\n",
       "      <td>0</td>\n",
       "      <td>0</td>\n",
       "      <td>0</td>\n",
       "      <td>0</td>\n",
       "      <td>NaN</td>\n",
       "      <td>NaN</td>\n",
       "      <td>NaN</td>\n",
       "      <td>NaN</td>\n",
       "      <td>NaN</td>\n",
       "      <td>NaN</td>\n",
       "    </tr>\n",
       "    <tr>\n",
       "      <th>3</th>\n",
       "      <td>Interstellar</td>\n",
       "      <td>169.0</td>\n",
       "      <td>Adventure,Drama,Sci-Fi</td>\n",
       "      <td>8.6</td>\n",
       "      <td>Christopher Nolan</td>\n",
       "      <td>Emma Thomas</td>\n",
       "      <td>Hoyte Van Hoytema</td>\n",
       "      <td>Jonathan Nolan</td>\n",
       "      <td>165000000.0</td>\n",
       "      <td>188017894.0</td>\n",
       "      <td>...</td>\n",
       "      <td>0</td>\n",
       "      <td>0</td>\n",
       "      <td>0</td>\n",
       "      <td>0</td>\n",
       "      <td>NaN</td>\n",
       "      <td>NaN</td>\n",
       "      <td>NaN</td>\n",
       "      <td>NaN</td>\n",
       "      <td>NaN</td>\n",
       "      <td>NaN</td>\n",
       "    </tr>\n",
       "    <tr>\n",
       "      <th>4</th>\n",
       "      <td>Flipped</td>\n",
       "      <td>90.0</td>\n",
       "      <td>Comedy,Drama,Romance</td>\n",
       "      <td>7.7</td>\n",
       "      <td>Rob Reiner</td>\n",
       "      <td>Alan Greisman</td>\n",
       "      <td>Thomas Del Ruth</td>\n",
       "      <td>Andrew Scheinman</td>\n",
       "      <td>14000000.0</td>\n",
       "      <td>1755212.0</td>\n",
       "      <td>...</td>\n",
       "      <td>0</td>\n",
       "      <td>0</td>\n",
       "      <td>0</td>\n",
       "      <td>0</td>\n",
       "      <td>NaN</td>\n",
       "      <td>NaN</td>\n",
       "      <td>NaN</td>\n",
       "      <td>NaN</td>\n",
       "      <td>NaN</td>\n",
       "      <td>NaN</td>\n",
       "    </tr>\n",
       "  </tbody>\n",
       "</table>\n",
       "<p>5 rows × 41 columns</p>\n",
       "</div>"
      ],
      "text/plain": [
       "                 title  runtime                    genres  rating  \\\n",
       "0              Lincoln    150.0   Biography,Drama,History     7.4   \n",
       "1  Season of the Witch     95.0  Action,Adventure,Fantasy     5.4   \n",
       "2   Dallas Buyers Club    117.0           Biography,Drama     8.0   \n",
       "3         Interstellar    169.0    Adventure,Drama,Sci-Fi     8.6   \n",
       "4              Flipped     90.0      Comedy,Drama,Romance     7.7   \n",
       "\n",
       "            director          producer    cinematographer            writer  \\\n",
       "0   Steven Spielberg  Kathleen Kennedy    Janusz Kaminski      Tony Kushner   \n",
       "1       Dominic Sena     Charles Roven         Amir Mokri    Bragi F. Schut   \n",
       "2   Jean-Marc Vallée     Rachel Winter      Yves Bélanger      Craig Borten   \n",
       "3  Christopher Nolan       Emma Thomas  Hoyte Van Hoytema    Jonathan Nolan   \n",
       "4         Rob Reiner     Alan Greisman    Thomas Del Ruth  Andrew Scheinman   \n",
       "\n",
       "        budget     domestic  ...  Sport  War  Documentary  Musical  title.1  \\\n",
       "0   65000000.0  182207973.0  ...      0    0            0        0      NaN   \n",
       "1   40000000.0   24827228.0  ...      0    0            0        0      NaN   \n",
       "2    5000000.0   27298285.0  ...      0    0            0        0      NaN   \n",
       "3  165000000.0  188017894.0  ...      0    0            0        0      NaN   \n",
       "4   14000000.0    1755212.0  ...      0    0            0        0      NaN   \n",
       "\n",
       "   runtime.1  rating.1  budget.1  domestic.1  worldwide.1  \n",
       "0        NaN       NaN       NaN         NaN          NaN  \n",
       "1        NaN       NaN       NaN         NaN          NaN  \n",
       "2        NaN       NaN       NaN         NaN          NaN  \n",
       "3        NaN       NaN       NaN         NaN          NaN  \n",
       "4        NaN       NaN       NaN         NaN          NaN  \n",
       "\n",
       "[5 rows x 41 columns]"
      ]
     },
     "execution_count": 14,
     "metadata": {},
     "output_type": "execute_result"
    }
   ],
   "source": [
    "df = pd.read_csv('datasets/final_df.csv')\n",
    "df.drop(['Unnamed: 0','genre_list'],axis=1,inplace=True)\n",
    "df.head()"
   ]
  },
  {
   "cell_type": "code",
   "execution_count": 15,
   "metadata": {},
   "outputs": [
    {
     "data": {
      "text/plain": [
       "Index(['title', 'runtime', 'genres', 'rating', 'director', 'producer',\n",
       "       'cinematographer', 'writer', 'budget', 'domestic', 'foreign',\n",
       "       'worldwide', 'ROI', 'year', 'Adventure', 'Western', 'Romance',\n",
       "       'History', 'Fantasy', 'Comedy', 'Action', 'Crime', 'Mystery', 'Drama',\n",
       "       'Biography', 'Music', 'Sci-Fi', 'Thriller', 'Animation', 'Horror',\n",
       "       'Family', 'Sport', 'War', 'Documentary', 'Musical', 'title.1',\n",
       "       'runtime.1', 'rating.1', 'budget.1', 'domestic.1', 'worldwide.1'],\n",
       "      dtype='object')"
      ]
     },
     "execution_count": 15,
     "metadata": {},
     "output_type": "execute_result"
    }
   ],
   "source": [
    "df.columns"
   ]
  },
  {
   "cell_type": "markdown",
   "metadata": {},
   "source": [
    "## FINDINGS"
   ]
  },
  {
   "cell_type": "markdown",
   "metadata": {},
   "source": [
    "### 1. Which are the Most Profitable Genres"
   ]
  },
  {
   "cell_type": "code",
   "execution_count": 16,
   "metadata": {},
   "outputs": [],
   "source": [
    "def sorted_dict(target_dict,reverse=True):\n",
    "    return dict(sorted(target_dict.items(), key=operator.itemgetter(1),reverse=reverse))"
   ]
  },
  {
   "cell_type": "code",
   "execution_count": 20,
   "metadata": {},
   "outputs": [
    {
     "data": {
      "text/plain": [
       "['Adventure',\n",
       " 'Western',\n",
       " 'Romance',\n",
       " 'History',\n",
       " 'Fantasy',\n",
       " 'Comedy',\n",
       " 'Action',\n",
       " 'Crime',\n",
       " 'Mystery',\n",
       " 'Drama',\n",
       " 'Biography',\n",
       " 'Music',\n",
       " 'Sci-Fi',\n",
       " 'Thriller',\n",
       " 'Animation',\n",
       " 'Horror',\n",
       " 'Family',\n",
       " 'Sport',\n",
       " 'War',\n",
       " 'Documentary',\n",
       " 'Musical',\n",
       " 'title.1',\n",
       " 'runtime.1',\n",
       " 'rating.1',\n",
       " 'budget.1',\n",
       " 'domestic.1',\n",
       " 'worldwide.1']"
      ]
     },
     "execution_count": 20,
     "metadata": {},
     "output_type": "execute_result"
    }
   ],
   "source": [
    "# get all genre names\n",
    "all_columns = list(df.columns)\n",
    "all_genres = all_columns[14:]\n",
    "all_genres"
   ]
  },
  {
   "cell_type": "code",
   "execution_count": 19,
   "metadata": {},
   "outputs": [
    {
     "ename": "TypeError",
     "evalue": "unsupported operand type(s) for +: 'int' and 'str'",
     "output_type": "error",
     "traceback": [
      "\u001b[1;31m---------------------------------------------------------------------------\u001b[0m",
      "\u001b[1;31mTypeError\u001b[0m                                 Traceback (most recent call last)",
      "\u001b[1;32m<ipython-input-19-5260b3080290>\u001b[0m in \u001b[0;36m<module>\u001b[1;34m\u001b[0m\n\u001b[0;32m      3\u001b[0m \u001b[0mgenres_dict\u001b[0m \u001b[1;33m=\u001b[0m \u001b[0mdict\u001b[0m\u001b[1;33m(\u001b[0m\u001b[1;33m)\u001b[0m\u001b[1;33m\u001b[0m\u001b[1;33m\u001b[0m\u001b[0m\n\u001b[0;32m      4\u001b[0m \u001b[1;32mfor\u001b[0m \u001b[0mcol\u001b[0m \u001b[1;32min\u001b[0m \u001b[0mall_genres\u001b[0m\u001b[1;33m:\u001b[0m\u001b[1;33m\u001b[0m\u001b[1;33m\u001b[0m\u001b[0m\n\u001b[1;32m----> 5\u001b[1;33m     \u001b[0mcount\u001b[0m \u001b[1;33m=\u001b[0m \u001b[0mdf\u001b[0m\u001b[1;33m[\u001b[0m\u001b[0mcol\u001b[0m\u001b[1;33m]\u001b[0m\u001b[1;33m.\u001b[0m\u001b[0msum\u001b[0m\u001b[1;33m(\u001b[0m\u001b[1;33m)\u001b[0m\u001b[1;33m\u001b[0m\u001b[1;33m\u001b[0m\u001b[0m\n\u001b[0m\u001b[0;32m      6\u001b[0m     \u001b[0mgenres_dict\u001b[0m\u001b[1;33m[\u001b[0m\u001b[0mcol\u001b[0m\u001b[1;33m]\u001b[0m \u001b[1;33m=\u001b[0m \u001b[0mcount\u001b[0m\u001b[1;33m\u001b[0m\u001b[1;33m\u001b[0m\u001b[0m\n\u001b[0;32m      7\u001b[0m \u001b[1;33m\u001b[0m\u001b[0m\n",
      "\u001b[1;32m~\\anaconda3\\lib\\site-packages\\pandas\\core\\generic.py\u001b[0m in \u001b[0;36mstat_func\u001b[1;34m(self, axis, skipna, level, numeric_only, min_count, **kwargs)\u001b[0m\n\u001b[0;32m  11420\u001b[0m                 \u001b[0mname\u001b[0m\u001b[1;33m,\u001b[0m \u001b[0maxis\u001b[0m\u001b[1;33m=\u001b[0m\u001b[0maxis\u001b[0m\u001b[1;33m,\u001b[0m \u001b[0mlevel\u001b[0m\u001b[1;33m=\u001b[0m\u001b[0mlevel\u001b[0m\u001b[1;33m,\u001b[0m \u001b[0mskipna\u001b[0m\u001b[1;33m=\u001b[0m\u001b[0mskipna\u001b[0m\u001b[1;33m,\u001b[0m \u001b[0mmin_count\u001b[0m\u001b[1;33m=\u001b[0m\u001b[0mmin_count\u001b[0m\u001b[1;33m\u001b[0m\u001b[1;33m\u001b[0m\u001b[0m\n\u001b[0;32m  11421\u001b[0m             )\n\u001b[1;32m> 11422\u001b[1;33m         return self._reduce(\n\u001b[0m\u001b[0;32m  11423\u001b[0m             \u001b[0mfunc\u001b[0m\u001b[1;33m,\u001b[0m\u001b[1;33m\u001b[0m\u001b[1;33m\u001b[0m\u001b[0m\n\u001b[0;32m  11424\u001b[0m             \u001b[0mname\u001b[0m\u001b[1;33m=\u001b[0m\u001b[0mname\u001b[0m\u001b[1;33m,\u001b[0m\u001b[1;33m\u001b[0m\u001b[1;33m\u001b[0m\u001b[0m\n",
      "\u001b[1;32m~\\anaconda3\\lib\\site-packages\\pandas\\core\\series.py\u001b[0m in \u001b[0;36m_reduce\u001b[1;34m(self, op, name, axis, skipna, numeric_only, filter_type, **kwds)\u001b[0m\n\u001b[0;32m   4234\u001b[0m                 )\n\u001b[0;32m   4235\u001b[0m             \u001b[1;32mwith\u001b[0m \u001b[0mnp\u001b[0m\u001b[1;33m.\u001b[0m\u001b[0merrstate\u001b[0m\u001b[1;33m(\u001b[0m\u001b[0mall\u001b[0m\u001b[1;33m=\u001b[0m\u001b[1;34m\"ignore\"\u001b[0m\u001b[1;33m)\u001b[0m\u001b[1;33m:\u001b[0m\u001b[1;33m\u001b[0m\u001b[1;33m\u001b[0m\u001b[0m\n\u001b[1;32m-> 4236\u001b[1;33m                 \u001b[1;32mreturn\u001b[0m \u001b[0mop\u001b[0m\u001b[1;33m(\u001b[0m\u001b[0mdelegate\u001b[0m\u001b[1;33m,\u001b[0m \u001b[0mskipna\u001b[0m\u001b[1;33m=\u001b[0m\u001b[0mskipna\u001b[0m\u001b[1;33m,\u001b[0m \u001b[1;33m**\u001b[0m\u001b[0mkwds\u001b[0m\u001b[1;33m)\u001b[0m\u001b[1;33m\u001b[0m\u001b[1;33m\u001b[0m\u001b[0m\n\u001b[0m\u001b[0;32m   4237\u001b[0m \u001b[1;33m\u001b[0m\u001b[0m\n\u001b[0;32m   4238\u001b[0m     \u001b[1;32mdef\u001b[0m \u001b[0m_reindex_indexer\u001b[0m\u001b[1;33m(\u001b[0m\u001b[0mself\u001b[0m\u001b[1;33m,\u001b[0m \u001b[0mnew_index\u001b[0m\u001b[1;33m,\u001b[0m \u001b[0mindexer\u001b[0m\u001b[1;33m,\u001b[0m \u001b[0mcopy\u001b[0m\u001b[1;33m)\u001b[0m\u001b[1;33m:\u001b[0m\u001b[1;33m\u001b[0m\u001b[1;33m\u001b[0m\u001b[0m\n",
      "\u001b[1;32m~\\anaconda3\\lib\\site-packages\\pandas\\core\\nanops.py\u001b[0m in \u001b[0;36m_f\u001b[1;34m(*args, **kwargs)\u001b[0m\n\u001b[0;32m     69\u001b[0m             \u001b[1;32mtry\u001b[0m\u001b[1;33m:\u001b[0m\u001b[1;33m\u001b[0m\u001b[1;33m\u001b[0m\u001b[0m\n\u001b[0;32m     70\u001b[0m                 \u001b[1;32mwith\u001b[0m \u001b[0mnp\u001b[0m\u001b[1;33m.\u001b[0m\u001b[0merrstate\u001b[0m\u001b[1;33m(\u001b[0m\u001b[0minvalid\u001b[0m\u001b[1;33m=\u001b[0m\u001b[1;34m\"ignore\"\u001b[0m\u001b[1;33m)\u001b[0m\u001b[1;33m:\u001b[0m\u001b[1;33m\u001b[0m\u001b[1;33m\u001b[0m\u001b[0m\n\u001b[1;32m---> 71\u001b[1;33m                     \u001b[1;32mreturn\u001b[0m \u001b[0mf\u001b[0m\u001b[1;33m(\u001b[0m\u001b[1;33m*\u001b[0m\u001b[0margs\u001b[0m\u001b[1;33m,\u001b[0m \u001b[1;33m**\u001b[0m\u001b[0mkwargs\u001b[0m\u001b[1;33m)\u001b[0m\u001b[1;33m\u001b[0m\u001b[1;33m\u001b[0m\u001b[0m\n\u001b[0m\u001b[0;32m     72\u001b[0m             \u001b[1;32mexcept\u001b[0m \u001b[0mValueError\u001b[0m \u001b[1;32mas\u001b[0m \u001b[0me\u001b[0m\u001b[1;33m:\u001b[0m\u001b[1;33m\u001b[0m\u001b[1;33m\u001b[0m\u001b[0m\n\u001b[0;32m     73\u001b[0m                 \u001b[1;31m# we want to transform an object array\u001b[0m\u001b[1;33m\u001b[0m\u001b[1;33m\u001b[0m\u001b[1;33m\u001b[0m\u001b[0m\n",
      "\u001b[1;32m~\\anaconda3\\lib\\site-packages\\pandas\\core\\nanops.py\u001b[0m in \u001b[0;36mnansum\u001b[1;34m(values, axis, skipna, min_count, mask)\u001b[0m\n\u001b[0;32m    507\u001b[0m     \u001b[1;32melif\u001b[0m \u001b[0mis_timedelta64_dtype\u001b[0m\u001b[1;33m(\u001b[0m\u001b[0mdtype\u001b[0m\u001b[1;33m)\u001b[0m\u001b[1;33m:\u001b[0m\u001b[1;33m\u001b[0m\u001b[1;33m\u001b[0m\u001b[0m\n\u001b[0;32m    508\u001b[0m         \u001b[0mdtype_sum\u001b[0m \u001b[1;33m=\u001b[0m \u001b[0mnp\u001b[0m\u001b[1;33m.\u001b[0m\u001b[0mfloat64\u001b[0m\u001b[1;33m\u001b[0m\u001b[1;33m\u001b[0m\u001b[0m\n\u001b[1;32m--> 509\u001b[1;33m     \u001b[0mthe_sum\u001b[0m \u001b[1;33m=\u001b[0m \u001b[0mvalues\u001b[0m\u001b[1;33m.\u001b[0m\u001b[0msum\u001b[0m\u001b[1;33m(\u001b[0m\u001b[0maxis\u001b[0m\u001b[1;33m,\u001b[0m \u001b[0mdtype\u001b[0m\u001b[1;33m=\u001b[0m\u001b[0mdtype_sum\u001b[0m\u001b[1;33m)\u001b[0m\u001b[1;33m\u001b[0m\u001b[1;33m\u001b[0m\u001b[0m\n\u001b[0m\u001b[0;32m    510\u001b[0m     \u001b[0mthe_sum\u001b[0m \u001b[1;33m=\u001b[0m \u001b[0m_maybe_null_out\u001b[0m\u001b[1;33m(\u001b[0m\u001b[0mthe_sum\u001b[0m\u001b[1;33m,\u001b[0m \u001b[0maxis\u001b[0m\u001b[1;33m,\u001b[0m \u001b[0mmask\u001b[0m\u001b[1;33m,\u001b[0m \u001b[0mvalues\u001b[0m\u001b[1;33m.\u001b[0m\u001b[0mshape\u001b[0m\u001b[1;33m,\u001b[0m \u001b[0mmin_count\u001b[0m\u001b[1;33m=\u001b[0m\u001b[0mmin_count\u001b[0m\u001b[1;33m)\u001b[0m\u001b[1;33m\u001b[0m\u001b[1;33m\u001b[0m\u001b[0m\n\u001b[0;32m    511\u001b[0m \u001b[1;33m\u001b[0m\u001b[0m\n",
      "\u001b[1;32m~\\anaconda3\\lib\\site-packages\\numpy\\core\\_methods.py\u001b[0m in \u001b[0;36m_sum\u001b[1;34m(a, axis, dtype, out, keepdims, initial, where)\u001b[0m\n\u001b[0;32m     45\u001b[0m def _sum(a, axis=None, dtype=None, out=None, keepdims=False,\n\u001b[0;32m     46\u001b[0m          initial=_NoValue, where=True):\n\u001b[1;32m---> 47\u001b[1;33m     \u001b[1;32mreturn\u001b[0m \u001b[0mumr_sum\u001b[0m\u001b[1;33m(\u001b[0m\u001b[0ma\u001b[0m\u001b[1;33m,\u001b[0m \u001b[0maxis\u001b[0m\u001b[1;33m,\u001b[0m \u001b[0mdtype\u001b[0m\u001b[1;33m,\u001b[0m \u001b[0mout\u001b[0m\u001b[1;33m,\u001b[0m \u001b[0mkeepdims\u001b[0m\u001b[1;33m,\u001b[0m \u001b[0minitial\u001b[0m\u001b[1;33m,\u001b[0m \u001b[0mwhere\u001b[0m\u001b[1;33m)\u001b[0m\u001b[1;33m\u001b[0m\u001b[1;33m\u001b[0m\u001b[0m\n\u001b[0m\u001b[0;32m     48\u001b[0m \u001b[1;33m\u001b[0m\u001b[0m\n\u001b[0;32m     49\u001b[0m def _prod(a, axis=None, dtype=None, out=None, keepdims=False,\n",
      "\u001b[1;31mTypeError\u001b[0m: unsupported operand type(s) for +: 'int' and 'str'"
     ]
    }
   ],
   "source": [
    "# count total movies in each genre\n",
    "\n",
    "genres_dict = dict()\n",
    "for col in all_genres:\n",
    "    count = df[col].sum()\n",
    "    genres_dict[col] = count\n",
    "    \n",
    "genres_dict = sorted_dict(genres_dict)\n",
    "    \n",
    "genres = list(genres_dict.keys())\n",
    "genres_count = list(genres_dict.values())"
   ]
  },
  {
   "cell_type": "code",
   "execution_count": 6,
   "metadata": {},
   "outputs": [
    {
     "data": {
      "text/plain": [
       "Text(0.5, 1.0, 'TOTAL MOVIES BY GENRES')"
      ]
     },
     "execution_count": 6,
     "metadata": {},
     "output_type": "execute_result"
    },
    {
     "data": {
      "image/png": "[encoded data removed]",
      "text/plain": [
       "<Figure size 1080x576 with 1 Axes>"
      ]
     },
     "metadata": {},
     "output_type": "display_data"
    }
   ],
   "source": [
    "plt.figure(figsize=(15,8))\n",
    "\n",
    "sns.barplot(y=genres, x=genres_count,palette=\"magma\")\n",
    "plt.ylabel('GENRES')\n",
    "plt.xlabel('TOTAL MOVIES')\n",
    "plt.title('TOTAL MOVIES BY GENRES')\n",
    "#plt.savefig('images/total_movies_genre.jpg')"
   ]
  },
  {
   "cell_type": "markdown",
   "metadata": {},
   "source": [
    "_As Music, War, Western, Musical, History, Documantry, Sport and Animation have very less number of movies we might not get an actuall Idea on ROI so lets remove those movies._"
   ]
  },
  {
   "cell_type": "code",
   "execution_count": 7,
   "metadata": {},
   "outputs": [],
   "source": [
    "genres_dict\n",
    "genres_cols = [x for x in genres_dict if genres_dict[x] < 15]\n",
    "\n",
    "[all_genres.remove(key) for key in genres_cols]\n",
    "\n",
    "df.drop(genres_cols,axis=1,inplace=True)"
   ]
  },
  {
   "cell_type": "markdown",
   "metadata": {},
   "source": [
    "_WE HAVE THE TOP GENRES ARE **['Thriller', 'Sci-Fi', 'Crime', 'Family', 'Action', 'Horror', 'Mystery', 'Adventure', 'Biography', 'Drama', 'Fantasy', 'Comedy', 'Romance']**_"
   ]
  },
  {
   "cell_type": "markdown",
   "metadata": {},
   "source": [
    "_**Lets check what is the mean ROI on each genre**_"
   ]
  },
  {
   "cell_type": "code",
   "execution_count": 8,
   "metadata": {},
   "outputs": [
    {
     "ename": "ValueError",
     "evalue": "cannot convert float NaN to integer",
     "output_type": "error",
     "traceback": [
      "\u001b[1;31m---------------------------------------------------------------------------\u001b[0m",
      "\u001b[1;31mValueError\u001b[0m                                Traceback (most recent call last)",
      "\u001b[1;32m<ipython-input-8-fda74d9eea61>\u001b[0m in \u001b[0;36m<module>\u001b[1;34m\u001b[0m\n\u001b[0;32m      2\u001b[0m \u001b[0mroi_mean_genre\u001b[0m \u001b[1;33m=\u001b[0m \u001b[0mdict\u001b[0m\u001b[1;33m(\u001b[0m\u001b[1;33m)\u001b[0m\u001b[1;33m\u001b[0m\u001b[1;33m\u001b[0m\u001b[0m\n\u001b[0;32m      3\u001b[0m \u001b[1;32mfor\u001b[0m \u001b[0mgenre\u001b[0m \u001b[1;32min\u001b[0m \u001b[0mall_genres\u001b[0m\u001b[1;33m:\u001b[0m\u001b[1;33m\u001b[0m\u001b[1;33m\u001b[0m\u001b[0m\n\u001b[1;32m----> 4\u001b[1;33m     \u001b[0maverage_ROI\u001b[0m \u001b[1;33m=\u001b[0m \u001b[0mint\u001b[0m\u001b[1;33m(\u001b[0m\u001b[0mround\u001b[0m\u001b[1;33m(\u001b[0m\u001b[0mdf\u001b[0m\u001b[1;33m[\u001b[0m\u001b[1;33m(\u001b[0m\u001b[0mdf\u001b[0m\u001b[1;33m[\u001b[0m\u001b[0mgenre\u001b[0m\u001b[1;33m]\u001b[0m \u001b[1;33m==\u001b[0m \u001b[1;36m1\u001b[0m\u001b[1;33m)\u001b[0m \u001b[1;33m&\u001b[0m \u001b[1;33m(\u001b[0m\u001b[0mdf\u001b[0m\u001b[1;33m[\u001b[0m\u001b[1;34m'ROI'\u001b[0m\u001b[1;33m]\u001b[0m \u001b[1;33m>\u001b[0m \u001b[1;36m0\u001b[0m\u001b[1;33m)\u001b[0m\u001b[1;33m]\u001b[0m\u001b[1;33m.\u001b[0m\u001b[0mROI\u001b[0m\u001b[1;33m.\u001b[0m\u001b[0mmean\u001b[0m\u001b[1;33m(\u001b[0m\u001b[1;33m)\u001b[0m\u001b[1;33m)\u001b[0m\u001b[1;33m)\u001b[0m\u001b[1;33m\u001b[0m\u001b[1;33m\u001b[0m\u001b[0m\n\u001b[0m\u001b[0;32m      5\u001b[0m     \u001b[0mroi_mean_genre\u001b[0m\u001b[1;33m[\u001b[0m\u001b[0mgenre\u001b[0m\u001b[1;33m]\u001b[0m \u001b[1;33m=\u001b[0m \u001b[0maverage_ROI\u001b[0m\u001b[1;33m\u001b[0m\u001b[1;33m\u001b[0m\u001b[0m\n\u001b[0;32m      6\u001b[0m \u001b[1;33m\u001b[0m\u001b[0m\n",
      "\u001b[1;31mValueError\u001b[0m: cannot convert float NaN to integer"
     ]
    }
   ],
   "source": [
    "# Average ROI\n",
    "roi_mean_genre = dict()\n",
    "for genre in all_genres:\n",
    "    average_ROI = int(round(df[(df[genre] == 1) & (df['ROI'] > 0)].ROI.mean()))\n",
    "    roi_mean_genre[genre] = average_ROI\n",
    "        \n",
    "roi_mean_genre = sorted_dict(roi_mean_genre)\n",
    "genres_roi = list(roi_mean_genre.keys())\n",
    "mean_roi = list(roi_mean_genre.values())"
   ]
  },
  {
   "cell_type": "code",
   "execution_count": null,
   "metadata": {},
   "outputs": [],
   "source": [
    "plt.figure(figsize=(15,8))\n",
    "\n",
    "sns.barplot(y=genres_roi, x=mean_roi,palette=\"magma\")\n",
    "plt.ylabel('GENRES')\n",
    "plt.xlabel('AVERAGE ROI')\n",
    "plt.title('AVERAGE ROI BY GENRES')\n",
    "#plt.savefig('images/average_roi_genre.jpg')"
   ]
  },
  {
   "cell_type": "markdown",
   "metadata": {},
   "source": [
    "_**Horror has the highest ROI and is way beyond all other genre. There are chances that it might have outliers, lets check the box plot and remove outliers if any.**_"
   ]
  },
  {
   "cell_type": "code",
   "execution_count": null,
   "metadata": {},
   "outputs": [],
   "source": [
    "plt.subplots(figsize=(20,10))\n",
    "for i,g in enumerate(all_genres):\n",
    "    plt.subplot(4, 4, i + 1)\n",
    "    sns.boxplot(data = df[df[g] == 1], x=g, y=\"ROI\", showfliers = True)"
   ]
  },
  {
   "cell_type": "code",
   "execution_count": null,
   "metadata": {},
   "outputs": [],
   "source": [
    "# remove all data where ROI is within 2 standard daviation from the mean\n",
    "\n",
    "df['ROI_zscore'] = zscore(df['ROI'])\n",
    "df = df[df['ROI_zscore'] <= 2]\n",
    "df.shape"
   ]
  },
  {
   "cell_type": "markdown",
   "metadata": {},
   "source": [
    "_Lets check the lowest, highest and average ROI based on Genre_"
   ]
  },
  {
   "cell_type": "code",
   "execution_count": null,
   "metadata": {},
   "outputs": [],
   "source": []
  },
  {
   "cell_type": "code",
   "execution_count": null,
   "metadata": {},
   "outputs": [],
   "source": [
    "# MAX ROI\n",
    "\n",
    "roi_max_genre = list()\n",
    "for genre in all_genres:\n",
    "    roi = int(round(df[(df[genre] == 1) & (df['ROI'] > 50)].ROI.max()))\n",
    "    roi_max_genre.append(roi)"
   ]
  },
  {
   "cell_type": "code",
   "execution_count": null,
   "metadata": {},
   "outputs": [],
   "source": [
    "# MEAN ROI\n",
    "\n",
    "roi_mean_genre = list()\n",
    "for genre in all_genres:\n",
    "    roi = int(round(df[(df[genre] == 1) & (df['ROI'] > 50)].ROI.mean()))\n",
    "    roi_mean_genre.append(roi)"
   ]
  },
  {
   "cell_type": "code",
   "execution_count": null,
   "metadata": {},
   "outputs": [],
   "source": [
    "roi_min_max_df = pd.DataFrame({'genre':list(all_genres), 'max':roi_max_genre, 'mean':roi_mean_genre })\n",
    "roi_min_max_df.sort_values(by=['max'], inplace=True, ascending=True)\n",
    "roi_min_max_df"
   ]
  },
  {
   "cell_type": "code",
   "execution_count": null,
   "metadata": {},
   "outputs": [],
   "source": [
    "range_genre = range(1,len(roi_min_max_df) + 1)\n",
    "\n",
    "plt.subplots(figsize=(15,8))\n",
    "\n",
    "\n",
    "plt.hlines(y=range_genre, xmin=roi_min_max_df['mean'], xmax=roi_min_max_df['max'], color='grey', alpha=0.4)\n",
    "plt.scatter(roi_min_max_df['max'], range_genre, color='green', alpha=1 , label='Highest ROI')\n",
    "plt.scatter(roi_min_max_df['mean'], range_genre, color='red', alpha=1, label='Average ROI')\n",
    "plt.yticks(range_genre, roi_min_max_df['genre'])\n",
    "plt.legend(prop={'size': 12})\n",
    "plt.title('ROI RANGE BY GENRES')\n",
    "plt.xlabel('ROI (in %)')\n",
    "plt.ylabel('GENRES')\n",
    "#plt.savefig('images/mean_max_min_roi_genre.jpg')"
   ]
  },
  {
   "cell_type": "markdown",
   "metadata": {},
   "source": [
    "_TOP 5 GENRE THAT HAS HIGHEST ROI ARE **['Thriller', 'Action', 'Horror', 'Mystery', 'Drama']**_"
   ]
  },
  {
   "cell_type": "code",
   "execution_count": null,
   "metadata": {},
   "outputs": [],
   "source": [
    "top_genres = ['Thriller', 'Action', 'Horror', 'Mystery', 'Drama']\n",
    "df['genre_list'] = df['genres'].apply(lambda x: x.split(','))"
   ]
  },
  {
   "cell_type": "code",
   "execution_count": null,
   "metadata": {},
   "outputs": [],
   "source": [
    "genre_ = list()\n",
    "rating_ = list()\n",
    "for i, r in df.iterrows():\n",
    "    if r['genre_list']:\n",
    "        for g in r['genre_list']:\n",
    "            if g in top_genres:\n",
    "                genre_.append(g)\n",
    "                rating_.append(df.loc[i,'rating']) "
   ]
  },
  {
   "cell_type": "code",
   "execution_count": null,
   "metadata": {},
   "outputs": [],
   "source": [
    "df_ratings = pd.DataFrame({'genre':genre_,'rating':rating_})"
   ]
  },
  {
   "cell_type": "code",
   "execution_count": null,
   "metadata": {},
   "outputs": [],
   "source": [
    "plt.subplots(figsize=(15,8))\n",
    "sns.boxenplot(data=df_ratings,x=df_ratings['rating'],y=df_ratings['genre'])\n",
    "plt.title(\"RATING RANGE BY GENRES\")\n",
    "plt.xlabel('RATINGS')\n",
    "plt.ylabel('GENRES')\n",
    "#plt.savefig('images/rating_genre.jpg')"
   ]
  },
  {
   "cell_type": "markdown",
   "metadata": {},
   "source": [
    "### 2. Ideal Budget, Based on Genre"
   ]
  },
  {
   "cell_type": "markdown",
   "metadata": {},
   "source": [
    "_So as we have our top 3 Genre to be considered while making a film, lets take a look at how much could be the budget for each Genre_"
   ]
  },
  {
   "cell_type": "code",
   "execution_count": null,
   "metadata": {},
   "outputs": [],
   "source": [
    "top_genres = ['Thriller', 'Action', 'Drama']\n",
    "\n",
    "df = df[((df['Thriller'] == 1) | (df['Action'] == 1) | (df['Drama'] == 1))]\n",
    "df.shape"
   ]
  },
  {
   "cell_type": "code",
   "execution_count": null,
   "metadata": {},
   "outputs": [],
   "source": [
    "df_budget = df[['genre_list','budget','ROI','director']].copy()"
   ]
  },
  {
   "cell_type": "code",
   "execution_count": null,
   "metadata": {},
   "outputs": [],
   "source": [
    "df_budget['budget_class'] = pd.cut(\n",
    "       df_budget['budget'], \n",
    "       bins = [1000000, 10000000, 25000000, 50000000, 100000000, df_budget['budget'].max()], \n",
    "       right = True,\n",
    "       labels = ['Ultra Low (1M - 10M)', 'Low (10M - 25M)', 'Mid (25M - 50M)', 'High (50M - 100M)', 'Ultra High (100M+)']\n",
    ")"
   ]
  },
  {
   "cell_type": "code",
   "execution_count": null,
   "metadata": {},
   "outputs": [],
   "source": [
    "df_budget = df_budget.explode('genre_list')"
   ]
  },
  {
   "cell_type": "code",
   "execution_count": null,
   "metadata": {},
   "outputs": [],
   "source": [
    "df_budget_bool = df_budget.genre_list.isin(top_genres)\n",
    "df_budget = df_budget[df_budget_bool]"
   ]
  },
  {
   "cell_type": "code",
   "execution_count": null,
   "metadata": {},
   "outputs": [],
   "source": [
    "df_budget_roi = df_budget.copy()\n",
    "df_budget_roi.groupby(['genre_list', 'budget_class']).mean().head()"
   ]
  },
  {
   "cell_type": "code",
   "execution_count": null,
   "metadata": {},
   "outputs": [],
   "source": [
    "ax = sns.catplot(x=\"genre_list\", \n",
    "            y=\"ROI\", \n",
    "            hue=\"budget_class\", \n",
    "            hue_order=['Ultra Low (1M - 10M)', 'Low (10M - 25M)', 'Mid (25M - 50M)', 'High (50M - 100M)', 'Ultra High (100M+)'], \n",
    "            kind=\"box\", \n",
    "            height = 8,\n",
    "            aspect = 2,\n",
    "            showfliers = False, \n",
    "            data=df_budget_roi)\n",
    "\n",
    "ax._legend.set_title('BUDGET CLASS')\n",
    "\n",
    "plt.title('ROI BY BUDGET CLASS')\n",
    "plt.xlabel('GENRE');\n",
    "#ax.savefig('images/roi_budget_class.jpg')"
   ]
  },
  {
   "cell_type": "markdown",
   "metadata": {},
   "source": [
    "_ROI is the main factor to be considered when making a movie and as we see Action and Thriller genre have much higher ROI on films made on Ultra Low budget (1M to 10M). so let's do further analysis based on Action and Thriller Genre_"
   ]
  },
  {
   "cell_type": "markdown",
   "metadata": {},
   "source": [
    "### 3. Best Director, Based on Genre, ROI and Budget"
   ]
  },
  {
   "cell_type": "code",
   "execution_count": null,
   "metadata": {},
   "outputs": [],
   "source": [
    "top_genres = ['Thriller', 'Drama']"
   ]
  },
  {
   "cell_type": "code",
   "execution_count": null,
   "metadata": {},
   "outputs": [],
   "source": [
    "df_c = df.copy()"
   ]
  },
  {
   "cell_type": "code",
   "execution_count": null,
   "metadata": {},
   "outputs": [],
   "source": [
    "df_c['mean_budget'] = df.groupby('title')['budget'].transform('mean')\n",
    "df_c['mean_roi'] = df.groupby('title')['ROI'].transform('mean').round(0).astype(int)\n",
    "df_c = df_c[((df_c['Thriller'] == 1) | (df_c['Action'] == 1))]"
   ]
  },
  {
   "cell_type": "code",
   "execution_count": null,
   "metadata": {},
   "outputs": [],
   "source": [
    "#plot the most profitable people\n",
    "plot_df = df_c.sort_values('mean_roi', ascending=False)[:10]\n",
    "plt.figure (figsize = (20, 6))\n",
    "sns.barplot(data = plot_df,\n",
    "            x = 'director',\n",
    "            y = 'mean_roi',\n",
    "            palette='magma')\n",
    "\n",
    "# rotate ticks\n",
    "plt.xticks(rotation = 45, ha = 'right');\n",
    "plt.xlabel('DIRECTOR')\n",
    "plt.ylabel('ROI')\n",
    "plt.title('HEIGHEST ROI BY DIRECTOR')"
   ]
  },
  {
   "cell_type": "code",
   "execution_count": null,
   "metadata": {},
   "outputs": [],
   "source": [
    "directors_top = plot_df.director.unique()"
   ]
  },
  {
   "cell_type": "code",
   "execution_count": null,
   "metadata": {},
   "outputs": [],
   "source": [
    "df_genre_director_roi = df_c.explode('genre_list')"
   ]
  },
  {
   "cell_type": "code",
   "execution_count": null,
   "metadata": {},
   "outputs": [],
   "source": [
    "df_genre_director_roi.shape"
   ]
  },
  {
   "cell_type": "code",
   "execution_count": null,
   "metadata": {},
   "outputs": [],
   "source": [
    "df_genre_director_roi = df_genre_director_roi[df_genre_director_roi['director'].isin(directors_top) \n",
    "                                              & df_genre_director_roi['genre_list'].isin(top_genres)]"
   ]
  },
  {
   "cell_type": "code",
   "execution_count": null,
   "metadata": {},
   "outputs": [],
   "source": [
    "plt.figure (figsize = (15, 8))\n",
    "plot_df = df_genre_director_roi.sort_values('mean_roi', ascending=False)\n",
    "sns.barplot(data = plot_df,\n",
    "                y = 'director',\n",
    "                x = 'mean_roi',\n",
    "                capsize = .2,\n",
    "                hue = 'genre_list',\n",
    "                alpha = 1,\n",
    "                ci=None\n",
    "                )\n",
    "    \n",
    "sns.despine()\n",
    "\n",
    "# add and adjust labels\n",
    "plt.title('AVERAGE ROI BY DIRECTOR')\n",
    "plt.ylabel('DIRECTORS')\n",
    "plt.xlabel('AVERAGE ROI (%)')\n",
    "plt.legend(top_genres)\n",
    "#plt.savefig('images/avg_roi_director.jpg')"
   ]
  }
 ],
 "metadata": {
  "kernelspec": {
   "display_name": "Python 3",
   "language": "python",
   "name": "python3"
  },
  "language_info": {
   "codemirror_mode": {
    "name": "ipython",
    "version": 3
   },
   "file_extension": ".py",
   "mimetype": "text/x-python",
   "name": "python",
   "nbconvert_exporter": "python",
   "pygments_lexer": "ipython3",
   "version": "3.8.5"
  }
 },
 "nbformat": 4,
 "nbformat_minor": 5
}
