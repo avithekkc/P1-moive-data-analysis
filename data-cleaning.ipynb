{
 "cells": [
  {
   "cell_type": "markdown",
   "id": "536873fd",
   "metadata": {},
   "source": [
    "### • Importing required libraries"
   ]
  },
  {
   "cell_type": "code",
   "execution_count": 1,
   "id": "ac1d6458",
   "metadata": {},
   "outputs": [],
   "source": [
    "import pandas as pd\n",
    "import numpy as np\n",
    "from glob import glob"
   ]
  },
  {
   "cell_type": "markdown",
   "id": "7f9cd530",
   "metadata": {},
   "source": [
    "### • Loading all the datasets"
   ]
  },
  {
   "cell_type": "code",
   "execution_count": 2,
   "id": "018e50a5",
   "metadata": {},
   "outputs": [],
   "source": [
    "# get all files\n",
    "files = glob('datasets/*.csv')\n",
    "\n",
    "# create dict with keys as file name and value and file\n",
    "datasets = { '_'.join(f.replace('datasets/','').replace('.csv','').split('.')): pd.read_csv(f) for f in files }\n",
    "\n",
    "# name of all the datasets\n",
    "datasetsName = datasets.keys()\n",
    "# ['imdb_title_principals', 'bom_movie_gross', 'imdb_title_akas', 'imdb_name_basics', \n",
    "# 'imdb_title_basics', 'tmdb_movies', 'title_ratings', 'tn_movie_budgets']"
   ]
  },
  {
   "cell_type": "markdown",
   "id": "b0affa13",
   "metadata": {},
   "source": [
    "# • Data Cleaning"
   ]
  },
  {
   "cell_type": "markdown",
   "id": "e1006502",
   "metadata": {},
   "source": [
    "## 1.1 Cleaning The Numbers Movie Budgets DataFrame"
   ]
  },
  {
   "cell_type": "markdown",
   "id": "52e749ac",
   "metadata": {},
   "source": [
    " _Let's load the tn_movie_budgets datasets_"
   ]
  },
  {
   "cell_type": "code",
   "execution_count": 3,
   "id": "ec07444b",
   "metadata": {},
   "outputs": [
    {
     "data": {
      "text/html": [
       "<div>\n",
       "<style scoped>\n",
       "    .dataframe tbody tr th:only-of-type {\n",
       "        vertical-align: middle;\n",
       "    }\n",
       "\n",
       "    .dataframe tbody tr th {\n",
       "        vertical-align: top;\n",
       "    }\n",
       "\n",
       "    .dataframe thead th {\n",
       "        text-align: right;\n",
       "    }\n",
       "</style>\n",
       "<table border=\"1\" class=\"dataframe\">\n",
       "  <thead>\n",
       "    <tr style=\"text-align: right;\">\n",
       "      <th></th>\n",
       "      <th>id</th>\n",
       "      <th>release_date</th>\n",
       "      <th>movie</th>\n",
       "      <th>production_budget</th>\n",
       "      <th>domestic_gross</th>\n",
       "      <th>worldwide_gross</th>\n",
       "    </tr>\n",
       "  </thead>\n",
       "  <tbody>\n",
       "    <tr>\n",
       "      <th>0</th>\n",
       "      <td>1</td>\n",
       "      <td>Dec 18, 2009</td>\n",
       "      <td>Avatar</td>\n",
       "      <td>$425,000,000</td>\n",
       "      <td>$760,507,625</td>\n",
       "      <td>$2,776,345,279</td>\n",
       "    </tr>\n",
       "    <tr>\n",
       "      <th>1</th>\n",
       "      <td>2</td>\n",
       "      <td>May 20, 2011</td>\n",
       "      <td>Pirates of the Caribbean: On Stranger Tides</td>\n",
       "      <td>$410,600,000</td>\n",
       "      <td>$241,063,875</td>\n",
       "      <td>$1,045,663,875</td>\n",
       "    </tr>\n",
       "    <tr>\n",
       "      <th>2</th>\n",
       "      <td>3</td>\n",
       "      <td>Jun 7, 2019</td>\n",
       "      <td>Dark Phoenix</td>\n",
       "      <td>$350,000,000</td>\n",
       "      <td>$42,762,350</td>\n",
       "      <td>$149,762,350</td>\n",
       "    </tr>\n",
       "    <tr>\n",
       "      <th>3</th>\n",
       "      <td>4</td>\n",
       "      <td>May 1, 2015</td>\n",
       "      <td>Avengers: Age of Ultron</td>\n",
       "      <td>$330,600,000</td>\n",
       "      <td>$459,005,868</td>\n",
       "      <td>$1,403,013,963</td>\n",
       "    </tr>\n",
       "    <tr>\n",
       "      <th>4</th>\n",
       "      <td>5</td>\n",
       "      <td>Dec 15, 2017</td>\n",
       "      <td>Star Wars Ep. VIII: The Last Jedi</td>\n",
       "      <td>$317,000,000</td>\n",
       "      <td>$620,181,382</td>\n",
       "      <td>$1,316,721,747</td>\n",
       "    </tr>\n",
       "  </tbody>\n",
       "</table>\n",
       "</div>"
      ],
      "text/plain": [
       "   id  release_date                                        movie  \\\n",
       "0   1  Dec 18, 2009                                       Avatar   \n",
       "1   2  May 20, 2011  Pirates of the Caribbean: On Stranger Tides   \n",
       "2   3   Jun 7, 2019                                 Dark Phoenix   \n",
       "3   4   May 1, 2015                      Avengers: Age of Ultron   \n",
       "4   5  Dec 15, 2017            Star Wars Ep. VIII: The Last Jedi   \n",
       "\n",
       "  production_budget domestic_gross worldwide_gross  \n",
       "0      $425,000,000   $760,507,625  $2,776,345,279  \n",
       "1      $410,600,000   $241,063,875  $1,045,663,875  \n",
       "2      $350,000,000    $42,762,350    $149,762,350  \n",
       "3      $330,600,000   $459,005,868  $1,403,013,963  \n",
       "4      $317,000,000   $620,181,382  $1,316,721,747  "
      ]
     },
     "execution_count": 3,
     "metadata": {},
     "output_type": "execute_result"
    }
   ],
   "source": [
    "df_tn_movie_budgets = datasets['tn_movie_budgets']\n",
    "df_tn_movie_budgets.head()"
   ]
  },
  {
   "cell_type": "markdown",
   "id": "b2cbe5b5",
   "metadata": {},
   "source": [
    "_Check the number of rows and columns it has_"
   ]
  },
  {
   "cell_type": "code",
   "execution_count": 4,
   "id": "3cca627c",
   "metadata": {},
   "outputs": [
    {
     "data": {
      "text/plain": [
       "(5782, 6)"
      ]
     },
     "execution_count": 4,
     "metadata": {},
     "output_type": "execute_result"
    }
   ],
   "source": [
    "df_tn_movie_budgets.shape"
   ]
  },
  {
   "cell_type": "markdown",
   "id": "7f2e9762",
   "metadata": {},
   "source": [
    "_Check the datatype and counts by displaying dataframe info_"
   ]
  },
  {
   "cell_type": "code",
   "execution_count": 5,
   "id": "6d61e548",
   "metadata": {},
   "outputs": [
    {
     "name": "stdout",
     "output_type": "stream",
     "text": [
      "<class 'pandas.core.frame.DataFrame'>\n",
      "RangeIndex: 5782 entries, 0 to 5781\n",
      "Data columns (total 6 columns):\n",
      " #   Column             Non-Null Count  Dtype \n",
      "---  ------             --------------  ----- \n",
      " 0   id                 5782 non-null   int64 \n",
      " 1   release_date       5782 non-null   object\n",
      " 2   movie              5782 non-null   object\n",
      " 3   production_budget  5782 non-null   object\n",
      " 4   domestic_gross     5782 non-null   object\n",
      " 5   worldwide_gross    5782 non-null   object\n",
      "dtypes: int64(1), object(5)\n",
      "memory usage: 271.2+ KB\n"
     ]
    }
   ],
   "source": [
    "df_tn_movie_budgets.info()"
   ]
  },
  {
   "cell_type": "markdown",
   "id": "32ad8872",
   "metadata": {},
   "source": [
    "_Check for the missing values_"
   ]
  },
  {
   "cell_type": "code",
   "execution_count": 6,
   "id": "6f4af9d4",
   "metadata": {},
   "outputs": [
    {
     "data": {
      "text/plain": [
       "id                   0\n",
       "release_date         0\n",
       "movie                0\n",
       "production_budget    0\n",
       "domestic_gross       0\n",
       "worldwide_gross      0\n",
       "dtype: int64"
      ]
     },
     "execution_count": 6,
     "metadata": {},
     "output_type": "execute_result"
    }
   ],
   "source": [
    "df_tn_movie_budgets.isna().sum()"
   ]
  },
  {
   "cell_type": "markdown",
   "id": "80c52552",
   "metadata": {},
   "source": [
    "_As we can see that we don't have any missing values so we can move forward with the next step_."
   ]
  },
  {
   "cell_type": "markdown",
   "id": "1d5c740e",
   "metadata": {},
   "source": [
    "_The column `release_date` has object datatype lets make it year only and datatype as int_"
   ]
  },
  {
   "cell_type": "code",
   "execution_count": 7,
   "id": "ecfc2eef",
   "metadata": {},
   "outputs": [
    {
     "data": {
      "text/html": [
       "<div>\n",
       "<style scoped>\n",
       "    .dataframe tbody tr th:only-of-type {\n",
       "        vertical-align: middle;\n",
       "    }\n",
       "\n",
       "    .dataframe tbody tr th {\n",
       "        vertical-align: top;\n",
       "    }\n",
       "\n",
       "    .dataframe thead th {\n",
       "        text-align: right;\n",
       "    }\n",
       "</style>\n",
       "<table border=\"1\" class=\"dataframe\">\n",
       "  <thead>\n",
       "    <tr style=\"text-align: right;\">\n",
       "      <th></th>\n",
       "      <th>id</th>\n",
       "      <th>release_date</th>\n",
       "      <th>movie</th>\n",
       "      <th>production_budget</th>\n",
       "      <th>domestic_gross</th>\n",
       "      <th>worldwide_gross</th>\n",
       "      <th>year</th>\n",
       "    </tr>\n",
       "  </thead>\n",
       "  <tbody>\n",
       "    <tr>\n",
       "      <th>0</th>\n",
       "      <td>1</td>\n",
       "      <td>Dec 18, 2009</td>\n",
       "      <td>Avatar</td>\n",
       "      <td>$425,000,000</td>\n",
       "      <td>$760,507,625</td>\n",
       "      <td>$2,776,345,279</td>\n",
       "      <td>2009</td>\n",
       "    </tr>\n",
       "    <tr>\n",
       "      <th>1</th>\n",
       "      <td>2</td>\n",
       "      <td>May 20, 2011</td>\n",
       "      <td>Pirates of the Caribbean: On Stranger Tides</td>\n",
       "      <td>$410,600,000</td>\n",
       "      <td>$241,063,875</td>\n",
       "      <td>$1,045,663,875</td>\n",
       "      <td>2011</td>\n",
       "    </tr>\n",
       "    <tr>\n",
       "      <th>2</th>\n",
       "      <td>3</td>\n",
       "      <td>Jun 7, 2019</td>\n",
       "      <td>Dark Phoenix</td>\n",
       "      <td>$350,000,000</td>\n",
       "      <td>$42,762,350</td>\n",
       "      <td>$149,762,350</td>\n",
       "      <td>2019</td>\n",
       "    </tr>\n",
       "    <tr>\n",
       "      <th>3</th>\n",
       "      <td>4</td>\n",
       "      <td>May 1, 2015</td>\n",
       "      <td>Avengers: Age of Ultron</td>\n",
       "      <td>$330,600,000</td>\n",
       "      <td>$459,005,868</td>\n",
       "      <td>$1,403,013,963</td>\n",
       "      <td>2015</td>\n",
       "    </tr>\n",
       "    <tr>\n",
       "      <th>4</th>\n",
       "      <td>5</td>\n",
       "      <td>Dec 15, 2017</td>\n",
       "      <td>Star Wars Ep. VIII: The Last Jedi</td>\n",
       "      <td>$317,000,000</td>\n",
       "      <td>$620,181,382</td>\n",
       "      <td>$1,316,721,747</td>\n",
       "      <td>2017</td>\n",
       "    </tr>\n",
       "  </tbody>\n",
       "</table>\n",
       "</div>"
      ],
      "text/plain": [
       "   id  release_date                                        movie  \\\n",
       "0   1  Dec 18, 2009                                       Avatar   \n",
       "1   2  May 20, 2011  Pirates of the Caribbean: On Stranger Tides   \n",
       "2   3   Jun 7, 2019                                 Dark Phoenix   \n",
       "3   4   May 1, 2015                      Avengers: Age of Ultron   \n",
       "4   5  Dec 15, 2017            Star Wars Ep. VIII: The Last Jedi   \n",
       "\n",
       "  production_budget domestic_gross worldwide_gross  year  \n",
       "0      $425,000,000   $760,507,625  $2,776,345,279  2009  \n",
       "1      $410,600,000   $241,063,875  $1,045,663,875  2011  \n",
       "2      $350,000,000    $42,762,350    $149,762,350  2019  \n",
       "3      $330,600,000   $459,005,868  $1,403,013,963  2015  \n",
       "4      $317,000,000   $620,181,382  $1,316,721,747  2017  "
      ]
     },
     "execution_count": 7,
     "metadata": {},
     "output_type": "execute_result"
    }
   ],
   "source": [
    "df_tn_movie_budgets['year'] = pd.to_datetime(df_tn_movie_budgets['release_date']).dt.year\n",
    "df_tn_movie_budgets.head()"
   ]
  },
  {
   "cell_type": "markdown",
   "id": "61f58077",
   "metadata": {},
   "source": [
    "_Check how many years of data we have_"
   ]
  },
  {
   "cell_type": "code",
   "execution_count": 8,
   "id": "378b7bbb",
   "metadata": {},
   "outputs": [
    {
     "name": "stdout",
     "output_type": "stream",
     "text": [
      "Data From Year 1915 to 2020\n"
     ]
    }
   ],
   "source": [
    "print(f\"Data From Year {df_tn_movie_budgets.year.min()} to {df_tn_movie_budgets.year.max()}\")"
   ]
  },
  {
   "cell_type": "markdown",
   "id": "62594456",
   "metadata": {},
   "source": [
    "_As we can see we have data from 1915 to 2020. Considering the inflation over the years old data might not be very useful so lets filter out data of last 15 years only i.e from 2006 to 2020_"
   ]
  },
  {
   "cell_type": "code",
   "execution_count": 9,
   "id": "2f466c9c",
   "metadata": {},
   "outputs": [
    {
     "data": {
      "text/plain": [
       "(3177, 7)"
      ]
     },
     "execution_count": 9,
     "metadata": {},
     "output_type": "execute_result"
    }
   ],
   "source": [
    "df_tn_movie_budgets = df_tn_movie_budgets.loc[df_tn_movie_budgets['year'] >= 2006, : ]\n",
    "df_tn_movie_budgets.shape"
   ]
  },
  {
   "cell_type": "code",
   "execution_count": 10,
   "id": "c005bf82",
   "metadata": {},
   "outputs": [
    {
     "name": "stdout",
     "output_type": "stream",
     "text": [
      "Data From Year 2006 to 2020\n"
     ]
    }
   ],
   "source": [
    "print(f\"Data From Year {df_tn_movie_budgets.year.min()} to {df_tn_movie_budgets.year.max()}\")"
   ]
  },
  {
   "cell_type": "code",
   "execution_count": 11,
   "id": "5a6c4320",
   "metadata": {},
   "outputs": [
    {
     "data": {
      "text/plain": [
       "2015    338\n",
       "2010    274\n",
       "2008    264\n",
       "2006    260\n",
       "2014    255\n",
       "2011    254\n",
       "2009    239\n",
       "2013    238\n",
       "2012    235\n",
       "2007    220\n",
       "2016    219\n",
       "2017    168\n",
       "2018    143\n",
       "2019     67\n",
       "2020      3\n",
       "Name: year, dtype: int64"
      ]
     },
     "execution_count": 11,
     "metadata": {},
     "output_type": "execute_result"
    }
   ],
   "source": [
    "df_tn_movie_budgets.year.value_counts()"
   ]
  },
  {
   "cell_type": "markdown",
   "id": "1a2775ec",
   "metadata": {},
   "source": [
    "_The columns `production_budget`, `domestic_gross` and `worldwide_gross` has $ and amount value with comma (,) which needs to be convrted to int value_"
   ]
  },
  {
   "cell_type": "code",
   "execution_count": 12,
   "id": "1bee477b",
   "metadata": {},
   "outputs": [],
   "source": [
    "def convert_amt_to_int(df,col):\n",
    "    df[col] = df[col].replace('[\\$,]', '', regex=True).astype(np.int64)\n",
    "    return df"
   ]
  },
  {
   "cell_type": "code",
   "execution_count": 13,
   "id": "edfe8211",
   "metadata": {},
   "outputs": [
    {
     "name": "stdout",
     "output_type": "stream",
     "text": [
      "<class 'pandas.core.frame.DataFrame'>\n",
      "Int64Index: 3177 entries, 0 to 5780\n",
      "Data columns (total 7 columns):\n",
      " #   Column             Non-Null Count  Dtype \n",
      "---  ------             --------------  ----- \n",
      " 0   id                 3177 non-null   int64 \n",
      " 1   release_date       3177 non-null   object\n",
      " 2   movie              3177 non-null   object\n",
      " 3   production_budget  3177 non-null   int64 \n",
      " 4   domestic_gross     3177 non-null   int64 \n",
      " 5   worldwide_gross    3177 non-null   int64 \n",
      " 6   year               3177 non-null   int64 \n",
      "dtypes: int64(5), object(2)\n",
      "memory usage: 198.6+ KB\n"
     ]
    },
    {
     "name": "stderr",
     "output_type": "stream",
     "text": [
      "/home/avithekkc/anaconda3/lib/python3.7/site-packages/ipykernel_launcher.py:2: SettingWithCopyWarning: \n",
      "A value is trying to be set on a copy of a slice from a DataFrame.\n",
      "Try using .loc[row_indexer,col_indexer] = value instead\n",
      "\n",
      "See the caveats in the documentation: https://pandas.pydata.org/pandas-docs/stable/user_guide/indexing.html#returning-a-view-versus-a-copy\n",
      "  \n"
     ]
    }
   ],
   "source": [
    "amount_cols = ['production_budget', 'domestic_gross', 'worldwide_gross']\n",
    "\n",
    "for col in amount_cols:\n",
    "    df_tn_movie_budgets = convert_amt_to_int(df_tn_movie_budgets,col)\n",
    "    \n",
    "\n",
    "df_tn_movie_budgets.info()"
   ]
  },
  {
   "cell_type": "markdown",
   "id": "00d4aaf1",
   "metadata": {},
   "source": [
    "_Let's calculate ROI as we have cost of production and worldwide collection_"
   ]
  },
  {
   "cell_type": "code",
   "execution_count": 14,
   "id": "d5928c9e",
   "metadata": {},
   "outputs": [
    {
     "name": "stderr",
     "output_type": "stream",
     "text": [
      "/home/avithekkc/anaconda3/lib/python3.7/site-packages/ipykernel_launcher.py:1: SettingWithCopyWarning: \n",
      "A value is trying to be set on a copy of a slice from a DataFrame.\n",
      "Try using .loc[row_indexer,col_indexer] = value instead\n",
      "\n",
      "See the caveats in the documentation: https://pandas.pydata.org/pandas-docs/stable/user_guide/indexing.html#returning-a-view-versus-a-copy\n",
      "  \"\"\"Entry point for launching an IPython kernel.\n"
     ]
    },
    {
     "data": {
      "text/html": [
       "<div>\n",
       "<style scoped>\n",
       "    .dataframe tbody tr th:only-of-type {\n",
       "        vertical-align: middle;\n",
       "    }\n",
       "\n",
       "    .dataframe tbody tr th {\n",
       "        vertical-align: top;\n",
       "    }\n",
       "\n",
       "    .dataframe thead th {\n",
       "        text-align: right;\n",
       "    }\n",
       "</style>\n",
       "<table border=\"1\" class=\"dataframe\">\n",
       "  <thead>\n",
       "    <tr style=\"text-align: right;\">\n",
       "      <th></th>\n",
       "      <th>id</th>\n",
       "      <th>release_date</th>\n",
       "      <th>movie</th>\n",
       "      <th>production_budget</th>\n",
       "      <th>domestic_gross</th>\n",
       "      <th>worldwide_gross</th>\n",
       "      <th>year</th>\n",
       "      <th>ROI</th>\n",
       "    </tr>\n",
       "  </thead>\n",
       "  <tbody>\n",
       "    <tr>\n",
       "      <th>0</th>\n",
       "      <td>1</td>\n",
       "      <td>Dec 18, 2009</td>\n",
       "      <td>Avatar</td>\n",
       "      <td>425000000</td>\n",
       "      <td>760507625</td>\n",
       "      <td>2776345279</td>\n",
       "      <td>2009</td>\n",
       "      <td>553.257713</td>\n",
       "    </tr>\n",
       "    <tr>\n",
       "      <th>1</th>\n",
       "      <td>2</td>\n",
       "      <td>May 20, 2011</td>\n",
       "      <td>Pirates of the Caribbean: On Stranger Tides</td>\n",
       "      <td>410600000</td>\n",
       "      <td>241063875</td>\n",
       "      <td>1045663875</td>\n",
       "      <td>2011</td>\n",
       "      <td>154.667286</td>\n",
       "    </tr>\n",
       "    <tr>\n",
       "      <th>2</th>\n",
       "      <td>3</td>\n",
       "      <td>Jun 7, 2019</td>\n",
       "      <td>Dark Phoenix</td>\n",
       "      <td>350000000</td>\n",
       "      <td>42762350</td>\n",
       "      <td>149762350</td>\n",
       "      <td>2019</td>\n",
       "      <td>-57.210757</td>\n",
       "    </tr>\n",
       "    <tr>\n",
       "      <th>3</th>\n",
       "      <td>4</td>\n",
       "      <td>May 1, 2015</td>\n",
       "      <td>Avengers: Age of Ultron</td>\n",
       "      <td>330600000</td>\n",
       "      <td>459005868</td>\n",
       "      <td>1403013963</td>\n",
       "      <td>2015</td>\n",
       "      <td>324.384139</td>\n",
       "    </tr>\n",
       "    <tr>\n",
       "      <th>4</th>\n",
       "      <td>5</td>\n",
       "      <td>Dec 15, 2017</td>\n",
       "      <td>Star Wars Ep. VIII: The Last Jedi</td>\n",
       "      <td>317000000</td>\n",
       "      <td>620181382</td>\n",
       "      <td>1316721747</td>\n",
       "      <td>2017</td>\n",
       "      <td>315.369636</td>\n",
       "    </tr>\n",
       "  </tbody>\n",
       "</table>\n",
       "</div>"
      ],
      "text/plain": [
       "   id  release_date                                        movie  \\\n",
       "0   1  Dec 18, 2009                                       Avatar   \n",
       "1   2  May 20, 2011  Pirates of the Caribbean: On Stranger Tides   \n",
       "2   3   Jun 7, 2019                                 Dark Phoenix   \n",
       "3   4   May 1, 2015                      Avengers: Age of Ultron   \n",
       "4   5  Dec 15, 2017            Star Wars Ep. VIII: The Last Jedi   \n",
       "\n",
       "   production_budget  domestic_gross  worldwide_gross  year         ROI  \n",
       "0          425000000       760507625       2776345279  2009  553.257713  \n",
       "1          410600000       241063875       1045663875  2011  154.667286  \n",
       "2          350000000        42762350        149762350  2019  -57.210757  \n",
       "3          330600000       459005868       1403013963  2015  324.384139  \n",
       "4          317000000       620181382       1316721747  2017  315.369636  "
      ]
     },
     "execution_count": 14,
     "metadata": {},
     "output_type": "execute_result"
    }
   ],
   "source": [
    "df_tn_movie_budgets['ROI'] = df_tn_movie_budgets.apply(lambda x: ((x['worldwide_gross'] - x['production_budget']) / x['production_budget']) * 100 , axis=1)\n",
    "df_tn_movie_budgets.head()"
   ]
  },
  {
   "cell_type": "markdown",
   "id": "0c3cd395",
   "metadata": {},
   "source": [
    "_Lets drop `id` and `release_date` as we don't need it_"
   ]
  },
  {
   "cell_type": "code",
   "execution_count": 15,
   "id": "f0953873",
   "metadata": {},
   "outputs": [
    {
     "name": "stderr",
     "output_type": "stream",
     "text": [
      "/home/avithekkc/anaconda3/lib/python3.7/site-packages/pandas/core/frame.py:4315: SettingWithCopyWarning: \n",
      "A value is trying to be set on a copy of a slice from a DataFrame\n",
      "\n",
      "See the caveats in the documentation: https://pandas.pydata.org/pandas-docs/stable/user_guide/indexing.html#returning-a-view-versus-a-copy\n",
      "  errors=errors,\n"
     ]
    },
    {
     "data": {
      "text/html": [
       "<div>\n",
       "<style scoped>\n",
       "    .dataframe tbody tr th:only-of-type {\n",
       "        vertical-align: middle;\n",
       "    }\n",
       "\n",
       "    .dataframe tbody tr th {\n",
       "        vertical-align: top;\n",
       "    }\n",
       "\n",
       "    .dataframe thead th {\n",
       "        text-align: right;\n",
       "    }\n",
       "</style>\n",
       "<table border=\"1\" class=\"dataframe\">\n",
       "  <thead>\n",
       "    <tr style=\"text-align: right;\">\n",
       "      <th></th>\n",
       "      <th>movie</th>\n",
       "      <th>production_budget</th>\n",
       "      <th>domestic_gross</th>\n",
       "      <th>worldwide_gross</th>\n",
       "      <th>year</th>\n",
       "      <th>ROI</th>\n",
       "    </tr>\n",
       "  </thead>\n",
       "  <tbody>\n",
       "    <tr>\n",
       "      <th>0</th>\n",
       "      <td>Avatar</td>\n",
       "      <td>425000000</td>\n",
       "      <td>760507625</td>\n",
       "      <td>2776345279</td>\n",
       "      <td>2009</td>\n",
       "      <td>553.257713</td>\n",
       "    </tr>\n",
       "    <tr>\n",
       "      <th>1</th>\n",
       "      <td>Pirates of the Caribbean: On Stranger Tides</td>\n",
       "      <td>410600000</td>\n",
       "      <td>241063875</td>\n",
       "      <td>1045663875</td>\n",
       "      <td>2011</td>\n",
       "      <td>154.667286</td>\n",
       "    </tr>\n",
       "    <tr>\n",
       "      <th>2</th>\n",
       "      <td>Dark Phoenix</td>\n",
       "      <td>350000000</td>\n",
       "      <td>42762350</td>\n",
       "      <td>149762350</td>\n",
       "      <td>2019</td>\n",
       "      <td>-57.210757</td>\n",
       "    </tr>\n",
       "    <tr>\n",
       "      <th>3</th>\n",
       "      <td>Avengers: Age of Ultron</td>\n",
       "      <td>330600000</td>\n",
       "      <td>459005868</td>\n",
       "      <td>1403013963</td>\n",
       "      <td>2015</td>\n",
       "      <td>324.384139</td>\n",
       "    </tr>\n",
       "    <tr>\n",
       "      <th>4</th>\n",
       "      <td>Star Wars Ep. VIII: The Last Jedi</td>\n",
       "      <td>317000000</td>\n",
       "      <td>620181382</td>\n",
       "      <td>1316721747</td>\n",
       "      <td>2017</td>\n",
       "      <td>315.369636</td>\n",
       "    </tr>\n",
       "  </tbody>\n",
       "</table>\n",
       "</div>"
      ],
      "text/plain": [
       "                                         movie  production_budget  \\\n",
       "0                                       Avatar          425000000   \n",
       "1  Pirates of the Caribbean: On Stranger Tides          410600000   \n",
       "2                                 Dark Phoenix          350000000   \n",
       "3                      Avengers: Age of Ultron          330600000   \n",
       "4            Star Wars Ep. VIII: The Last Jedi          317000000   \n",
       "\n",
       "   domestic_gross  worldwide_gross  year         ROI  \n",
       "0       760507625       2776345279  2009  553.257713  \n",
       "1       241063875       1045663875  2011  154.667286  \n",
       "2        42762350        149762350  2019  -57.210757  \n",
       "3       459005868       1403013963  2015  324.384139  \n",
       "4       620181382       1316721747  2017  315.369636  "
      ]
     },
     "execution_count": 15,
     "metadata": {},
     "output_type": "execute_result"
    }
   ],
   "source": [
    "df_tn_movie_budgets.drop(['id','release_date'],axis=1,inplace=True)\n",
    "df_tn_movie_budgets.head()"
   ]
  },
  {
   "cell_type": "markdown",
   "id": "ad9093ba",
   "metadata": {},
   "source": [
    "## 1.2 Cleaning and Merging Title Rating and Imdb Title DataFrame"
   ]
  },
  {
   "cell_type": "markdown",
   "id": "6f231362",
   "metadata": {},
   "source": [
    "_Lets load the title_ratings dataset_"
   ]
  },
  {
   "cell_type": "code",
   "execution_count": 16,
   "id": "6be534d6",
   "metadata": {},
   "outputs": [
    {
     "data": {
      "text/html": [
       "<div>\n",
       "<style scoped>\n",
       "    .dataframe tbody tr th:only-of-type {\n",
       "        vertical-align: middle;\n",
       "    }\n",
       "\n",
       "    .dataframe tbody tr th {\n",
       "        vertical-align: top;\n",
       "    }\n",
       "\n",
       "    .dataframe thead th {\n",
       "        text-align: right;\n",
       "    }\n",
       "</style>\n",
       "<table border=\"1\" class=\"dataframe\">\n",
       "  <thead>\n",
       "    <tr style=\"text-align: right;\">\n",
       "      <th></th>\n",
       "      <th>tconst</th>\n",
       "      <th>averagerating</th>\n",
       "      <th>numvotes</th>\n",
       "    </tr>\n",
       "  </thead>\n",
       "  <tbody>\n",
       "    <tr>\n",
       "      <th>0</th>\n",
       "      <td>tt10356526</td>\n",
       "      <td>8.3</td>\n",
       "      <td>31</td>\n",
       "    </tr>\n",
       "    <tr>\n",
       "      <th>1</th>\n",
       "      <td>tt10384606</td>\n",
       "      <td>8.9</td>\n",
       "      <td>559</td>\n",
       "    </tr>\n",
       "    <tr>\n",
       "      <th>2</th>\n",
       "      <td>tt1042974</td>\n",
       "      <td>6.4</td>\n",
       "      <td>20</td>\n",
       "    </tr>\n",
       "    <tr>\n",
       "      <th>3</th>\n",
       "      <td>tt1043726</td>\n",
       "      <td>4.2</td>\n",
       "      <td>50352</td>\n",
       "    </tr>\n",
       "    <tr>\n",
       "      <th>4</th>\n",
       "      <td>tt1060240</td>\n",
       "      <td>6.5</td>\n",
       "      <td>21</td>\n",
       "    </tr>\n",
       "  </tbody>\n",
       "</table>\n",
       "</div>"
      ],
      "text/plain": [
       "       tconst  averagerating  numvotes\n",
       "0  tt10356526            8.3        31\n",
       "1  tt10384606            8.9       559\n",
       "2   tt1042974            6.4        20\n",
       "3   tt1043726            4.2     50352\n",
       "4   tt1060240            6.5        21"
      ]
     },
     "execution_count": 16,
     "metadata": {},
     "output_type": "execute_result"
    }
   ],
   "source": [
    "df_ratings = datasets['title_ratings']\n",
    "df_ratings.head()"
   ]
  },
  {
   "cell_type": "markdown",
   "id": "4dc9862c",
   "metadata": {},
   "source": [
    "_Check the total records_"
   ]
  },
  {
   "cell_type": "code",
   "execution_count": 17,
   "id": "1f9a3498",
   "metadata": {
    "scrolled": true
   },
   "outputs": [
    {
     "data": {
      "text/plain": [
       "(73856, 3)"
      ]
     },
     "execution_count": 17,
     "metadata": {},
     "output_type": "execute_result"
    }
   ],
   "source": [
    "df_ratings.shape"
   ]
  },
  {
   "cell_type": "markdown",
   "id": "f49e0f73",
   "metadata": {},
   "source": [
    "_Check the datatype and counts by displaying dataframe info_"
   ]
  },
  {
   "cell_type": "code",
   "execution_count": 18,
   "id": "a486c87c",
   "metadata": {},
   "outputs": [
    {
     "name": "stdout",
     "output_type": "stream",
     "text": [
      "<class 'pandas.core.frame.DataFrame'>\n",
      "RangeIndex: 73856 entries, 0 to 73855\n",
      "Data columns (total 3 columns):\n",
      " #   Column         Non-Null Count  Dtype  \n",
      "---  ------         --------------  -----  \n",
      " 0   tconst         73856 non-null  object \n",
      " 1   averagerating  73856 non-null  float64\n",
      " 2   numvotes       73856 non-null  int64  \n",
      "dtypes: float64(1), int64(1), object(1)\n",
      "memory usage: 1.7+ MB\n"
     ]
    }
   ],
   "source": [
    "df_ratings.info()"
   ]
  },
  {
   "cell_type": "markdown",
   "id": "076e5b4a",
   "metadata": {},
   "source": [
    "_Check for missing values_"
   ]
  },
  {
   "cell_type": "code",
   "execution_count": 19,
   "id": "eb6fc85c",
   "metadata": {
    "scrolled": false
   },
   "outputs": [
    {
     "data": {
      "text/plain": [
       "tconst           0\n",
       "averagerating    0\n",
       "numvotes         0\n",
       "dtype: int64"
      ]
     },
     "execution_count": 19,
     "metadata": {},
     "output_type": "execute_result"
    }
   ],
   "source": [
    "df_ratings.isna().sum()"
   ]
  },
  {
   "cell_type": "markdown",
   "id": "87d77823",
   "metadata": {},
   "source": [
    "_As we can see that we don't have any missing values so we can move forward with the next step_."
   ]
  },
  {
   "cell_type": "code",
   "execution_count": null,
   "id": "84b399bf",
   "metadata": {},
   "outputs": [],
   "source": []
  },
  {
   "cell_type": "markdown",
   "id": "dfbca5c5",
   "metadata": {},
   "source": [
    "_Lets load the imdb_title_basics dataset_"
   ]
  },
  {
   "cell_type": "code",
   "execution_count": 20,
   "id": "74bf1eda",
   "metadata": {},
   "outputs": [
    {
     "data": {
      "text/html": [
       "<div>\n",
       "<style scoped>\n",
       "    .dataframe tbody tr th:only-of-type {\n",
       "        vertical-align: middle;\n",
       "    }\n",
       "\n",
       "    .dataframe tbody tr th {\n",
       "        vertical-align: top;\n",
       "    }\n",
       "\n",
       "    .dataframe thead th {\n",
       "        text-align: right;\n",
       "    }\n",
       "</style>\n",
       "<table border=\"1\" class=\"dataframe\">\n",
       "  <thead>\n",
       "    <tr style=\"text-align: right;\">\n",
       "      <th></th>\n",
       "      <th>tconst</th>\n",
       "      <th>primary_title</th>\n",
       "      <th>original_title</th>\n",
       "      <th>start_year</th>\n",
       "      <th>runtime_minutes</th>\n",
       "      <th>genres</th>\n",
       "    </tr>\n",
       "  </thead>\n",
       "  <tbody>\n",
       "    <tr>\n",
       "      <th>0</th>\n",
       "      <td>tt0063540</td>\n",
       "      <td>Sunghursh</td>\n",
       "      <td>Sunghursh</td>\n",
       "      <td>2013</td>\n",
       "      <td>175.0</td>\n",
       "      <td>Action,Crime,Drama</td>\n",
       "    </tr>\n",
       "    <tr>\n",
       "      <th>1</th>\n",
       "      <td>tt0066787</td>\n",
       "      <td>One Day Before the Rainy Season</td>\n",
       "      <td>Ashad Ka Ek Din</td>\n",
       "      <td>2019</td>\n",
       "      <td>114.0</td>\n",
       "      <td>Biography,Drama</td>\n",
       "    </tr>\n",
       "    <tr>\n",
       "      <th>2</th>\n",
       "      <td>tt0069049</td>\n",
       "      <td>The Other Side of the Wind</td>\n",
       "      <td>The Other Side of the Wind</td>\n",
       "      <td>2018</td>\n",
       "      <td>122.0</td>\n",
       "      <td>Drama</td>\n",
       "    </tr>\n",
       "    <tr>\n",
       "      <th>3</th>\n",
       "      <td>tt0069204</td>\n",
       "      <td>Sabse Bada Sukh</td>\n",
       "      <td>Sabse Bada Sukh</td>\n",
       "      <td>2018</td>\n",
       "      <td>NaN</td>\n",
       "      <td>Comedy,Drama</td>\n",
       "    </tr>\n",
       "    <tr>\n",
       "      <th>4</th>\n",
       "      <td>tt0100275</td>\n",
       "      <td>The Wandering Soap Opera</td>\n",
       "      <td>La Telenovela Errante</td>\n",
       "      <td>2017</td>\n",
       "      <td>80.0</td>\n",
       "      <td>Comedy,Drama,Fantasy</td>\n",
       "    </tr>\n",
       "  </tbody>\n",
       "</table>\n",
       "</div>"
      ],
      "text/plain": [
       "      tconst                    primary_title              original_title  \\\n",
       "0  tt0063540                        Sunghursh                   Sunghursh   \n",
       "1  tt0066787  One Day Before the Rainy Season             Ashad Ka Ek Din   \n",
       "2  tt0069049       The Other Side of the Wind  The Other Side of the Wind   \n",
       "3  tt0069204                  Sabse Bada Sukh             Sabse Bada Sukh   \n",
       "4  tt0100275         The Wandering Soap Opera       La Telenovela Errante   \n",
       "\n",
       "   start_year  runtime_minutes                genres  \n",
       "0        2013            175.0    Action,Crime,Drama  \n",
       "1        2019            114.0       Biography,Drama  \n",
       "2        2018            122.0                 Drama  \n",
       "3        2018              NaN          Comedy,Drama  \n",
       "4        2017             80.0  Comedy,Drama,Fantasy  "
      ]
     },
     "execution_count": 20,
     "metadata": {},
     "output_type": "execute_result"
    }
   ],
   "source": [
    "df_imdb_title = datasets['imdb_title_basics']\n",
    "df_imdb_title.head()"
   ]
  },
  {
   "cell_type": "markdown",
   "id": "3c176ce6",
   "metadata": {},
   "source": [
    "_Check the total records_"
   ]
  },
  {
   "cell_type": "code",
   "execution_count": 21,
   "id": "37bbffa9",
   "metadata": {
    "scrolled": true
   },
   "outputs": [
    {
     "data": {
      "text/plain": [
       "(146144, 6)"
      ]
     },
     "execution_count": 21,
     "metadata": {},
     "output_type": "execute_result"
    }
   ],
   "source": [
    "df_imdb_title.shape"
   ]
  },
  {
   "cell_type": "markdown",
   "id": "e9eab6a6",
   "metadata": {},
   "source": [
    "_Check the datatype and counts by displaying dataframe info_"
   ]
  },
  {
   "cell_type": "code",
   "execution_count": 22,
   "id": "64abdd78",
   "metadata": {},
   "outputs": [
    {
     "name": "stdout",
     "output_type": "stream",
     "text": [
      "<class 'pandas.core.frame.DataFrame'>\n",
      "RangeIndex: 146144 entries, 0 to 146143\n",
      "Data columns (total 6 columns):\n",
      " #   Column           Non-Null Count   Dtype  \n",
      "---  ------           --------------   -----  \n",
      " 0   tconst           146144 non-null  object \n",
      " 1   primary_title    146144 non-null  object \n",
      " 2   original_title   146123 non-null  object \n",
      " 3   start_year       146144 non-null  int64  \n",
      " 4   runtime_minutes  114405 non-null  float64\n",
      " 5   genres           140736 non-null  object \n",
      "dtypes: float64(1), int64(1), object(4)\n",
      "memory usage: 6.7+ MB\n"
     ]
    }
   ],
   "source": [
    "df_imdb_title.info()"
   ]
  },
  {
   "cell_type": "markdown",
   "id": "15197e9b",
   "metadata": {},
   "source": [
    "_Check for missing values_"
   ]
  },
  {
   "cell_type": "code",
   "execution_count": 23,
   "id": "ecacfce4",
   "metadata": {
    "scrolled": false
   },
   "outputs": [
    {
     "data": {
      "text/plain": [
       "tconst                 0\n",
       "primary_title          0\n",
       "original_title        21\n",
       "start_year             0\n",
       "runtime_minutes    31739\n",
       "genres              5408\n",
       "dtype: int64"
      ]
     },
     "execution_count": 23,
     "metadata": {},
     "output_type": "execute_result"
    }
   ],
   "source": [
    "df_imdb_title.isna().sum()"
   ]
  },
  {
   "cell_type": "markdown",
   "id": "b9d0f6c5",
   "metadata": {},
   "source": [
    "_We have null values in Original Title, Runtime and Genres_."
   ]
  },
  {
   "cell_type": "markdown",
   "id": "ae2c2d41",
   "metadata": {},
   "source": [
    "_Lets first merge this 2 dataframes on tconst_"
   ]
  },
  {
   "cell_type": "code",
   "execution_count": 24,
   "id": "69798746",
   "metadata": {},
   "outputs": [
    {
     "data": {
      "text/plain": [
       "(73856, 8)"
      ]
     },
     "execution_count": 24,
     "metadata": {},
     "output_type": "execute_result"
    }
   ],
   "source": [
    "df_imdb = df_imdb_title.merge(df_ratings, left_on='tconst',right_on='tconst',how='inner')\n",
    "df_imdb.shape"
   ]
  },
  {
   "cell_type": "code",
   "execution_count": 25,
   "id": "c8ec2d80",
   "metadata": {},
   "outputs": [
    {
     "data": {
      "text/html": [
       "<div>\n",
       "<style scoped>\n",
       "    .dataframe tbody tr th:only-of-type {\n",
       "        vertical-align: middle;\n",
       "    }\n",
       "\n",
       "    .dataframe tbody tr th {\n",
       "        vertical-align: top;\n",
       "    }\n",
       "\n",
       "    .dataframe thead th {\n",
       "        text-align: right;\n",
       "    }\n",
       "</style>\n",
       "<table border=\"1\" class=\"dataframe\">\n",
       "  <thead>\n",
       "    <tr style=\"text-align: right;\">\n",
       "      <th></th>\n",
       "      <th>tconst</th>\n",
       "      <th>primary_title</th>\n",
       "      <th>original_title</th>\n",
       "      <th>start_year</th>\n",
       "      <th>runtime_minutes</th>\n",
       "      <th>genres</th>\n",
       "      <th>averagerating</th>\n",
       "      <th>numvotes</th>\n",
       "    </tr>\n",
       "  </thead>\n",
       "  <tbody>\n",
       "    <tr>\n",
       "      <th>0</th>\n",
       "      <td>tt0063540</td>\n",
       "      <td>Sunghursh</td>\n",
       "      <td>Sunghursh</td>\n",
       "      <td>2013</td>\n",
       "      <td>175.0</td>\n",
       "      <td>Action,Crime,Drama</td>\n",
       "      <td>7.0</td>\n",
       "      <td>77</td>\n",
       "    </tr>\n",
       "    <tr>\n",
       "      <th>1</th>\n",
       "      <td>tt0066787</td>\n",
       "      <td>One Day Before the Rainy Season</td>\n",
       "      <td>Ashad Ka Ek Din</td>\n",
       "      <td>2019</td>\n",
       "      <td>114.0</td>\n",
       "      <td>Biography,Drama</td>\n",
       "      <td>7.2</td>\n",
       "      <td>43</td>\n",
       "    </tr>\n",
       "    <tr>\n",
       "      <th>2</th>\n",
       "      <td>tt0069049</td>\n",
       "      <td>The Other Side of the Wind</td>\n",
       "      <td>The Other Side of the Wind</td>\n",
       "      <td>2018</td>\n",
       "      <td>122.0</td>\n",
       "      <td>Drama</td>\n",
       "      <td>6.9</td>\n",
       "      <td>4517</td>\n",
       "    </tr>\n",
       "    <tr>\n",
       "      <th>3</th>\n",
       "      <td>tt0069204</td>\n",
       "      <td>Sabse Bada Sukh</td>\n",
       "      <td>Sabse Bada Sukh</td>\n",
       "      <td>2018</td>\n",
       "      <td>NaN</td>\n",
       "      <td>Comedy,Drama</td>\n",
       "      <td>6.1</td>\n",
       "      <td>13</td>\n",
       "    </tr>\n",
       "    <tr>\n",
       "      <th>4</th>\n",
       "      <td>tt0100275</td>\n",
       "      <td>The Wandering Soap Opera</td>\n",
       "      <td>La Telenovela Errante</td>\n",
       "      <td>2017</td>\n",
       "      <td>80.0</td>\n",
       "      <td>Comedy,Drama,Fantasy</td>\n",
       "      <td>6.5</td>\n",
       "      <td>119</td>\n",
       "    </tr>\n",
       "  </tbody>\n",
       "</table>\n",
       "</div>"
      ],
      "text/plain": [
       "      tconst                    primary_title              original_title  \\\n",
       "0  tt0063540                        Sunghursh                   Sunghursh   \n",
       "1  tt0066787  One Day Before the Rainy Season             Ashad Ka Ek Din   \n",
       "2  tt0069049       The Other Side of the Wind  The Other Side of the Wind   \n",
       "3  tt0069204                  Sabse Bada Sukh             Sabse Bada Sukh   \n",
       "4  tt0100275         The Wandering Soap Opera       La Telenovela Errante   \n",
       "\n",
       "   start_year  runtime_minutes                genres  averagerating  numvotes  \n",
       "0        2013            175.0    Action,Crime,Drama            7.0        77  \n",
       "1        2019            114.0       Biography,Drama            7.2        43  \n",
       "2        2018            122.0                 Drama            6.9      4517  \n",
       "3        2018              NaN          Comedy,Drama            6.1        13  \n",
       "4        2017             80.0  Comedy,Drama,Fantasy            6.5       119  "
      ]
     },
     "execution_count": 25,
     "metadata": {},
     "output_type": "execute_result"
    }
   ],
   "source": [
    "df_imdb.head()"
   ]
  },
  {
   "cell_type": "markdown",
   "id": "74b94a51",
   "metadata": {},
   "source": [
    "_Now that we have merged ratings and title datasets. lets find out the director of the film using imdb_name_basics and imdb_title_principals datasets_"
   ]
  },
  {
   "cell_type": "code",
   "execution_count": 26,
   "id": "81c7be3b",
   "metadata": {},
   "outputs": [
    {
     "data": {
      "text/html": [
       "<div>\n",
       "<style scoped>\n",
       "    .dataframe tbody tr th:only-of-type {\n",
       "        vertical-align: middle;\n",
       "    }\n",
       "\n",
       "    .dataframe tbody tr th {\n",
       "        vertical-align: top;\n",
       "    }\n",
       "\n",
       "    .dataframe thead th {\n",
       "        text-align: right;\n",
       "    }\n",
       "</style>\n",
       "<table border=\"1\" class=\"dataframe\">\n",
       "  <thead>\n",
       "    <tr style=\"text-align: right;\">\n",
       "      <th></th>\n",
       "      <th>tconst</th>\n",
       "      <th>ordering</th>\n",
       "      <th>nconst</th>\n",
       "      <th>category</th>\n",
       "      <th>job</th>\n",
       "      <th>characters</th>\n",
       "    </tr>\n",
       "  </thead>\n",
       "  <tbody>\n",
       "    <tr>\n",
       "      <th>0</th>\n",
       "      <td>tt0111414</td>\n",
       "      <td>1</td>\n",
       "      <td>nm0246005</td>\n",
       "      <td>actor</td>\n",
       "      <td>NaN</td>\n",
       "      <td>[\"The Man\"]</td>\n",
       "    </tr>\n",
       "    <tr>\n",
       "      <th>1</th>\n",
       "      <td>tt0111414</td>\n",
       "      <td>2</td>\n",
       "      <td>nm0398271</td>\n",
       "      <td>director</td>\n",
       "      <td>NaN</td>\n",
       "      <td>NaN</td>\n",
       "    </tr>\n",
       "    <tr>\n",
       "      <th>2</th>\n",
       "      <td>tt0111414</td>\n",
       "      <td>3</td>\n",
       "      <td>nm3739909</td>\n",
       "      <td>producer</td>\n",
       "      <td>producer</td>\n",
       "      <td>NaN</td>\n",
       "    </tr>\n",
       "    <tr>\n",
       "      <th>3</th>\n",
       "      <td>tt0323808</td>\n",
       "      <td>10</td>\n",
       "      <td>nm0059247</td>\n",
       "      <td>editor</td>\n",
       "      <td>NaN</td>\n",
       "      <td>NaN</td>\n",
       "    </tr>\n",
       "    <tr>\n",
       "      <th>4</th>\n",
       "      <td>tt0323808</td>\n",
       "      <td>1</td>\n",
       "      <td>nm3579312</td>\n",
       "      <td>actress</td>\n",
       "      <td>NaN</td>\n",
       "      <td>[\"Beth Boothby\"]</td>\n",
       "    </tr>\n",
       "  </tbody>\n",
       "</table>\n",
       "</div>"
      ],
      "text/plain": [
       "      tconst  ordering     nconst  category       job        characters\n",
       "0  tt0111414         1  nm0246005     actor       NaN       [\"The Man\"]\n",
       "1  tt0111414         2  nm0398271  director       NaN               NaN\n",
       "2  tt0111414         3  nm3739909  producer  producer               NaN\n",
       "3  tt0323808        10  nm0059247    editor       NaN               NaN\n",
       "4  tt0323808         1  nm3579312   actress       NaN  [\"Beth Boothby\"]"
      ]
     },
     "execution_count": 26,
     "metadata": {},
     "output_type": "execute_result"
    }
   ],
   "source": [
    "df_title_detail = datasets['imdb_title_principals']\n",
    "df_title_detail.head()"
   ]
  },
  {
   "cell_type": "code",
   "execution_count": 27,
   "id": "c9d69494",
   "metadata": {},
   "outputs": [
    {
     "data": {
      "text/plain": [
       "(1028186, 6)"
      ]
     },
     "execution_count": 27,
     "metadata": {},
     "output_type": "execute_result"
    }
   ],
   "source": [
    "df_title_detail.shape"
   ]
  },
  {
   "cell_type": "markdown",
   "id": "5b253706",
   "metadata": {},
   "source": [
    "_Check unique values in category column_"
   ]
  },
  {
   "cell_type": "code",
   "execution_count": 28,
   "id": "52fbf0f3",
   "metadata": {},
   "outputs": [
    {
     "data": {
      "text/plain": [
       "array(['actor', 'director', 'producer', 'editor', 'actress', 'composer',\n",
       "       'cinematographer', 'writer', 'self', 'production_designer',\n",
       "       'archive_footage', 'archive_sound'], dtype=object)"
      ]
     },
     "execution_count": 28,
     "metadata": {},
     "output_type": "execute_result"
    }
   ],
   "source": [
    "df_title_detail['category'].unique()"
   ]
  },
  {
   "cell_type": "markdown",
   "id": "1d40d74b",
   "metadata": {},
   "source": [
    "_As we can see that for each title we have director, actor, producer associated with it. As we are only intrested in director lets filter out all the titles where category is director_"
   ]
  },
  {
   "cell_type": "code",
   "execution_count": 29,
   "id": "8e4efe5f",
   "metadata": {},
   "outputs": [
    {
     "data": {
      "text/html": [
       "<div>\n",
       "<style scoped>\n",
       "    .dataframe tbody tr th:only-of-type {\n",
       "        vertical-align: middle;\n",
       "    }\n",
       "\n",
       "    .dataframe tbody tr th {\n",
       "        vertical-align: top;\n",
       "    }\n",
       "\n",
       "    .dataframe thead th {\n",
       "        text-align: right;\n",
       "    }\n",
       "</style>\n",
       "<table border=\"1\" class=\"dataframe\">\n",
       "  <thead>\n",
       "    <tr style=\"text-align: right;\">\n",
       "      <th></th>\n",
       "      <th>tconst</th>\n",
       "      <th>ordering</th>\n",
       "      <th>nconst</th>\n",
       "      <th>category</th>\n",
       "      <th>job</th>\n",
       "      <th>characters</th>\n",
       "    </tr>\n",
       "  </thead>\n",
       "  <tbody>\n",
       "    <tr>\n",
       "      <th>1</th>\n",
       "      <td>tt0111414</td>\n",
       "      <td>2</td>\n",
       "      <td>nm0398271</td>\n",
       "      <td>director</td>\n",
       "      <td>NaN</td>\n",
       "      <td>NaN</td>\n",
       "    </tr>\n",
       "    <tr>\n",
       "      <th>2</th>\n",
       "      <td>tt0111414</td>\n",
       "      <td>3</td>\n",
       "      <td>nm3739909</td>\n",
       "      <td>producer</td>\n",
       "      <td>producer</td>\n",
       "      <td>NaN</td>\n",
       "    </tr>\n",
       "    <tr>\n",
       "      <th>8</th>\n",
       "      <td>tt0323808</td>\n",
       "      <td>5</td>\n",
       "      <td>nm0362736</td>\n",
       "      <td>director</td>\n",
       "      <td>NaN</td>\n",
       "      <td>NaN</td>\n",
       "    </tr>\n",
       "    <tr>\n",
       "      <th>9</th>\n",
       "      <td>tt0323808</td>\n",
       "      <td>6</td>\n",
       "      <td>nm0811056</td>\n",
       "      <td>producer</td>\n",
       "      <td>producer</td>\n",
       "      <td>NaN</td>\n",
       "    </tr>\n",
       "    <tr>\n",
       "      <th>10</th>\n",
       "      <td>tt0323808</td>\n",
       "      <td>7</td>\n",
       "      <td>nm0914939</td>\n",
       "      <td>producer</td>\n",
       "      <td>producer</td>\n",
       "      <td>NaN</td>\n",
       "    </tr>\n",
       "  </tbody>\n",
       "</table>\n",
       "</div>"
      ],
      "text/plain": [
       "       tconst  ordering     nconst  category       job characters\n",
       "1   tt0111414         2  nm0398271  director       NaN        NaN\n",
       "2   tt0111414         3  nm3739909  producer  producer        NaN\n",
       "8   tt0323808         5  nm0362736  director       NaN        NaN\n",
       "9   tt0323808         6  nm0811056  producer  producer        NaN\n",
       "10  tt0323808         7  nm0914939  producer  producer        NaN"
      ]
     },
     "execution_count": 29,
     "metadata": {},
     "output_type": "execute_result"
    }
   ],
   "source": [
    "df_makers = df_title_detail[df_title_detail['category'].isin(['director','producer','writer','cinematographer']) ]\n",
    "df_makers.head()"
   ]
  },
  {
   "cell_type": "code",
   "execution_count": 30,
   "id": "7e9c0b0d",
   "metadata": {},
   "outputs": [
    {
     "data": {
      "text/html": [
       "<div>\n",
       "<style scoped>\n",
       "    .dataframe tbody tr th:only-of-type {\n",
       "        vertical-align: middle;\n",
       "    }\n",
       "\n",
       "    .dataframe tbody tr th {\n",
       "        vertical-align: top;\n",
       "    }\n",
       "\n",
       "    .dataframe thead th {\n",
       "        text-align: right;\n",
       "    }\n",
       "</style>\n",
       "<table border=\"1\" class=\"dataframe\">\n",
       "  <thead>\n",
       "    <tr style=\"text-align: right;\">\n",
       "      <th></th>\n",
       "      <th>nconst</th>\n",
       "      <th>primary_name</th>\n",
       "      <th>birth_year</th>\n",
       "      <th>death_year</th>\n",
       "      <th>primary_profession</th>\n",
       "      <th>known_for_titles</th>\n",
       "    </tr>\n",
       "  </thead>\n",
       "  <tbody>\n",
       "    <tr>\n",
       "      <th>0</th>\n",
       "      <td>nm0061671</td>\n",
       "      <td>Mary Ellen Bauder</td>\n",
       "      <td>NaN</td>\n",
       "      <td>NaN</td>\n",
       "      <td>miscellaneous,production_manager,producer</td>\n",
       "      <td>tt0837562,tt2398241,tt0844471,tt0118553</td>\n",
       "    </tr>\n",
       "    <tr>\n",
       "      <th>1</th>\n",
       "      <td>nm0061865</td>\n",
       "      <td>Joseph Bauer</td>\n",
       "      <td>NaN</td>\n",
       "      <td>NaN</td>\n",
       "      <td>composer,music_department,sound_department</td>\n",
       "      <td>tt0896534,tt6791238,tt0287072,tt1682940</td>\n",
       "    </tr>\n",
       "    <tr>\n",
       "      <th>2</th>\n",
       "      <td>nm0062070</td>\n",
       "      <td>Bruce Baum</td>\n",
       "      <td>NaN</td>\n",
       "      <td>NaN</td>\n",
       "      <td>miscellaneous,actor,writer</td>\n",
       "      <td>tt1470654,tt0363631,tt0104030,tt0102898</td>\n",
       "    </tr>\n",
       "    <tr>\n",
       "      <th>3</th>\n",
       "      <td>nm0062195</td>\n",
       "      <td>Axel Baumann</td>\n",
       "      <td>NaN</td>\n",
       "      <td>NaN</td>\n",
       "      <td>camera_department,cinematographer,art_department</td>\n",
       "      <td>tt0114371,tt2004304,tt1618448,tt1224387</td>\n",
       "    </tr>\n",
       "    <tr>\n",
       "      <th>4</th>\n",
       "      <td>nm0062798</td>\n",
       "      <td>Pete Baxter</td>\n",
       "      <td>NaN</td>\n",
       "      <td>NaN</td>\n",
       "      <td>production_designer,art_department,set_decorator</td>\n",
       "      <td>tt0452644,tt0452692,tt3458030,tt2178256</td>\n",
       "    </tr>\n",
       "  </tbody>\n",
       "</table>\n",
       "</div>"
      ],
      "text/plain": [
       "      nconst       primary_name  birth_year  death_year  \\\n",
       "0  nm0061671  Mary Ellen Bauder         NaN         NaN   \n",
       "1  nm0061865       Joseph Bauer         NaN         NaN   \n",
       "2  nm0062070         Bruce Baum         NaN         NaN   \n",
       "3  nm0062195       Axel Baumann         NaN         NaN   \n",
       "4  nm0062798        Pete Baxter         NaN         NaN   \n",
       "\n",
       "                                 primary_profession  \\\n",
       "0         miscellaneous,production_manager,producer   \n",
       "1        composer,music_department,sound_department   \n",
       "2                        miscellaneous,actor,writer   \n",
       "3  camera_department,cinematographer,art_department   \n",
       "4  production_designer,art_department,set_decorator   \n",
       "\n",
       "                          known_for_titles  \n",
       "0  tt0837562,tt2398241,tt0844471,tt0118553  \n",
       "1  tt0896534,tt6791238,tt0287072,tt1682940  \n",
       "2  tt1470654,tt0363631,tt0104030,tt0102898  \n",
       "3  tt0114371,tt2004304,tt1618448,tt1224387  \n",
       "4  tt0452644,tt0452692,tt3458030,tt2178256  "
      ]
     },
     "execution_count": 30,
     "metadata": {},
     "output_type": "execute_result"
    }
   ],
   "source": [
    "df_names = datasets['imdb_name_basics']\n",
    "df_names.head()"
   ]
  },
  {
   "cell_type": "code",
   "execution_count": 31,
   "id": "03c21aef",
   "metadata": {},
   "outputs": [
    {
     "data": {
      "text/plain": [
       "(606648, 6)"
      ]
     },
     "execution_count": 31,
     "metadata": {},
     "output_type": "execute_result"
    }
   ],
   "source": [
    "df_names.shape"
   ]
  },
  {
   "cell_type": "markdown",
   "id": "b70e4f08",
   "metadata": {},
   "source": [
    "_As we have names of people involved in making of movie (cast, producers, director etc) we will  with their names_"
   ]
  },
  {
   "cell_type": "code",
   "execution_count": 32,
   "id": "f375a30f",
   "metadata": {},
   "outputs": [
    {
     "data": {
      "text/html": [
       "<div>\n",
       "<style scoped>\n",
       "    .dataframe tbody tr th:only-of-type {\n",
       "        vertical-align: middle;\n",
       "    }\n",
       "\n",
       "    .dataframe tbody tr th {\n",
       "        vertical-align: top;\n",
       "    }\n",
       "\n",
       "    .dataframe thead th {\n",
       "        text-align: right;\n",
       "    }\n",
       "</style>\n",
       "<table border=\"1\" class=\"dataframe\">\n",
       "  <thead>\n",
       "    <tr style=\"text-align: right;\">\n",
       "      <th></th>\n",
       "      <th>tconst</th>\n",
       "      <th>ordering</th>\n",
       "      <th>nconst</th>\n",
       "      <th>category</th>\n",
       "      <th>job</th>\n",
       "      <th>characters</th>\n",
       "      <th>primary_name</th>\n",
       "      <th>birth_year</th>\n",
       "      <th>death_year</th>\n",
       "      <th>primary_profession</th>\n",
       "      <th>known_for_titles</th>\n",
       "    </tr>\n",
       "  </thead>\n",
       "  <tbody>\n",
       "    <tr>\n",
       "      <th>0</th>\n",
       "      <td>tt0111414</td>\n",
       "      <td>2</td>\n",
       "      <td>nm0398271</td>\n",
       "      <td>director</td>\n",
       "      <td>NaN</td>\n",
       "      <td>NaN</td>\n",
       "      <td>Frank Howson</td>\n",
       "      <td>1952.0</td>\n",
       "      <td>NaN</td>\n",
       "      <td>actor,writer,producer</td>\n",
       "      <td>tt0104271,tt0094789,tt0102076,tt0111414</td>\n",
       "    </tr>\n",
       "    <tr>\n",
       "      <th>1</th>\n",
       "      <td>tt5573596</td>\n",
       "      <td>5</td>\n",
       "      <td>nm0398271</td>\n",
       "      <td>director</td>\n",
       "      <td>NaN</td>\n",
       "      <td>NaN</td>\n",
       "      <td>Frank Howson</td>\n",
       "      <td>1952.0</td>\n",
       "      <td>NaN</td>\n",
       "      <td>actor,writer,producer</td>\n",
       "      <td>tt0104271,tt0094789,tt0102076,tt0111414</td>\n",
       "    </tr>\n",
       "    <tr>\n",
       "      <th>2</th>\n",
       "      <td>tt0111414</td>\n",
       "      <td>3</td>\n",
       "      <td>nm3739909</td>\n",
       "      <td>producer</td>\n",
       "      <td>producer</td>\n",
       "      <td>NaN</td>\n",
       "      <td>Barry Porter-Robinson</td>\n",
       "      <td>NaN</td>\n",
       "      <td>NaN</td>\n",
       "      <td>producer,art_department</td>\n",
       "      <td>tt0290884,tt0101374,tt0111414,tt1566940</td>\n",
       "    </tr>\n",
       "    <tr>\n",
       "      <th>3</th>\n",
       "      <td>tt0323808</td>\n",
       "      <td>5</td>\n",
       "      <td>nm0362736</td>\n",
       "      <td>director</td>\n",
       "      <td>NaN</td>\n",
       "      <td>NaN</td>\n",
       "      <td>Robin Hardy</td>\n",
       "      <td>1929.0</td>\n",
       "      <td>2016.0</td>\n",
       "      <td>actor,writer,director</td>\n",
       "      <td>tt0070917,tt0097375,tt0091032,tt0323808</td>\n",
       "    </tr>\n",
       "    <tr>\n",
       "      <th>4</th>\n",
       "      <td>tt0323808</td>\n",
       "      <td>6</td>\n",
       "      <td>nm0811056</td>\n",
       "      <td>producer</td>\n",
       "      <td>producer</td>\n",
       "      <td>NaN</td>\n",
       "      <td>Peter Snell</td>\n",
       "      <td>1938.0</td>\n",
       "      <td>NaN</td>\n",
       "      <td>producer,soundtrack,executive</td>\n",
       "      <td>tt0070917,tt2231097,tt0093771,tt0078836</td>\n",
       "    </tr>\n",
       "  </tbody>\n",
       "</table>\n",
       "</div>"
      ],
      "text/plain": [
       "      tconst  ordering     nconst  category       job characters  \\\n",
       "0  tt0111414         2  nm0398271  director       NaN        NaN   \n",
       "1  tt5573596         5  nm0398271  director       NaN        NaN   \n",
       "2  tt0111414         3  nm3739909  producer  producer        NaN   \n",
       "3  tt0323808         5  nm0362736  director       NaN        NaN   \n",
       "4  tt0323808         6  nm0811056  producer  producer        NaN   \n",
       "\n",
       "            primary_name  birth_year  death_year  \\\n",
       "0           Frank Howson      1952.0         NaN   \n",
       "1           Frank Howson      1952.0         NaN   \n",
       "2  Barry Porter-Robinson         NaN         NaN   \n",
       "3            Robin Hardy      1929.0      2016.0   \n",
       "4            Peter Snell      1938.0         NaN   \n",
       "\n",
       "              primary_profession                         known_for_titles  \n",
       "0          actor,writer,producer  tt0104271,tt0094789,tt0102076,tt0111414  \n",
       "1          actor,writer,producer  tt0104271,tt0094789,tt0102076,tt0111414  \n",
       "2        producer,art_department  tt0290884,tt0101374,tt0111414,tt1566940  \n",
       "3          actor,writer,director  tt0070917,tt0097375,tt0091032,tt0323808  \n",
       "4  producer,soundtrack,executive  tt0070917,tt2231097,tt0093771,tt0078836  "
      ]
     },
     "execution_count": 32,
     "metadata": {},
     "output_type": "execute_result"
    }
   ],
   "source": [
    "df_makers_names = df_makers.merge(df_names, left_on='nconst',right_on='nconst',how='inner')\n",
    "df_makers_names.head()"
   ]
  },
  {
   "cell_type": "markdown",
   "id": "a88c7a5a",
   "metadata": {},
   "source": [
    "_Lets drop unwanted columns from df_makers_names"
   ]
  },
  {
   "cell_type": "code",
   "execution_count": 33,
   "id": "415555d1",
   "metadata": {},
   "outputs": [],
   "source": [
    "df_makers_names.drop(['ordering','characters','job','birth_year','death_year','primary_profession','known_for_titles'], axis=1, inplace=True)"
   ]
  },
  {
   "cell_type": "code",
   "execution_count": 34,
   "id": "47e9b520",
   "metadata": {},
   "outputs": [
    {
     "data": {
      "text/html": [
       "<div>\n",
       "<style scoped>\n",
       "    .dataframe tbody tr th:only-of-type {\n",
       "        vertical-align: middle;\n",
       "    }\n",
       "\n",
       "    .dataframe tbody tr th {\n",
       "        vertical-align: top;\n",
       "    }\n",
       "\n",
       "    .dataframe thead th {\n",
       "        text-align: right;\n",
       "    }\n",
       "</style>\n",
       "<table border=\"1\" class=\"dataframe\">\n",
       "  <thead>\n",
       "    <tr style=\"text-align: right;\">\n",
       "      <th></th>\n",
       "      <th>tconst</th>\n",
       "      <th>nconst</th>\n",
       "      <th>category</th>\n",
       "      <th>primary_name</th>\n",
       "    </tr>\n",
       "  </thead>\n",
       "  <tbody>\n",
       "    <tr>\n",
       "      <th>0</th>\n",
       "      <td>tt0111414</td>\n",
       "      <td>nm0398271</td>\n",
       "      <td>director</td>\n",
       "      <td>Frank Howson</td>\n",
       "    </tr>\n",
       "    <tr>\n",
       "      <th>1</th>\n",
       "      <td>tt5573596</td>\n",
       "      <td>nm0398271</td>\n",
       "      <td>director</td>\n",
       "      <td>Frank Howson</td>\n",
       "    </tr>\n",
       "    <tr>\n",
       "      <th>2</th>\n",
       "      <td>tt0111414</td>\n",
       "      <td>nm3739909</td>\n",
       "      <td>producer</td>\n",
       "      <td>Barry Porter-Robinson</td>\n",
       "    </tr>\n",
       "    <tr>\n",
       "      <th>3</th>\n",
       "      <td>tt0323808</td>\n",
       "      <td>nm0362736</td>\n",
       "      <td>director</td>\n",
       "      <td>Robin Hardy</td>\n",
       "    </tr>\n",
       "    <tr>\n",
       "      <th>4</th>\n",
       "      <td>tt0323808</td>\n",
       "      <td>nm0811056</td>\n",
       "      <td>producer</td>\n",
       "      <td>Peter Snell</td>\n",
       "    </tr>\n",
       "  </tbody>\n",
       "</table>\n",
       "</div>"
      ],
      "text/plain": [
       "      tconst     nconst  category           primary_name\n",
       "0  tt0111414  nm0398271  director           Frank Howson\n",
       "1  tt5573596  nm0398271  director           Frank Howson\n",
       "2  tt0111414  nm3739909  producer  Barry Porter-Robinson\n",
       "3  tt0323808  nm0362736  director            Robin Hardy\n",
       "4  tt0323808  nm0811056  producer            Peter Snell"
      ]
     },
     "execution_count": 34,
     "metadata": {},
     "output_type": "execute_result"
    }
   ],
   "source": [
    "df_makers_names.head()"
   ]
  },
  {
   "cell_type": "code",
   "execution_count": 35,
   "id": "a2fca3be",
   "metadata": {},
   "outputs": [
    {
     "data": {
      "text/plain": [
       "tconst          0\n",
       "nconst          0\n",
       "category        0\n",
       "primary_name    0\n",
       "dtype: int64"
      ]
     },
     "execution_count": 35,
     "metadata": {},
     "output_type": "execute_result"
    }
   ],
   "source": [
    "df_makers_names.isna().sum()"
   ]
  },
  {
   "cell_type": "markdown",
   "id": "e20d412d",
   "metadata": {},
   "source": [
    "_We will be using this dataset to recommend directors/producers/writer for a certain kind of films Microsoft Studios might wanna make. But as we have dropped death_year column we have no way to know if that person is even alive but for for the sake of more number of data to work with we will consider as all of the person present in the datasets are alive_"
   ]
  },
  {
   "cell_type": "markdown",
   "id": "bcbc82a1",
   "metadata": {},
   "source": [
    "_Now we need to merge Movie titles with the makers names_"
   ]
  },
  {
   "cell_type": "code",
   "execution_count": 36,
   "id": "1d827065",
   "metadata": {},
   "outputs": [
    {
     "data": {
      "text/plain": [
       "(146393, 2)"
      ]
     },
     "metadata": {},
     "output_type": "display_data"
    },
    {
     "data": {
      "text/plain": [
       "(113724, 2)"
      ]
     },
     "metadata": {},
     "output_type": "display_data"
    },
    {
     "data": {
      "text/plain": [
       "(74357, 2)"
      ]
     },
     "metadata": {},
     "output_type": "display_data"
    },
    {
     "data": {
      "text/plain": [
       "(80091, 2)"
      ]
     },
     "metadata": {},
     "output_type": "display_data"
    }
   ],
   "source": [
    "#['director','producer','writer','cinematographer']\n",
    "\n",
    "df_director = df_makers_names.loc[(df_makers_names['category'] == 'director'),['primary_name','tconst']].rename(columns = {'primary_name':'director'})\n",
    "df_producer = df_makers_names.loc[(df_makers_names['category'] == 'producer'),['primary_name','tconst']].rename(columns = {'primary_name':'producer'})\n",
    "df_writer = df_makers_names.loc[(df_makers_names['category'] == 'writer'),['primary_name','tconst']].rename(columns = {'primary_name':'writer'})\n",
    "df_cinematographer = df_makers_names.loc[(df_makers_names['category'] == 'cinematographer'),['primary_name','tconst']].rename(columns = {'primary_name':'cinematographer'})\n",
    "\n",
    "\n",
    "display(df_director.shape)\n",
    "display(df_producer.shape)\n",
    "display(df_writer.shape)\n",
    "display(df_cinematographer.shape)"
   ]
  },
  {
   "cell_type": "code",
   "execution_count": 37,
   "id": "238d1586",
   "metadata": {},
   "outputs": [
    {
     "data": {
      "text/plain": [
       "(77452, 9)"
      ]
     },
     "execution_count": 37,
     "metadata": {},
     "output_type": "execute_result"
    }
   ],
   "source": [
    "#merge directors\n",
    "df_merge_d = df_imdb.merge(df_director, left_on='tconst',right_on='tconst',how='inner')\n",
    "df_merge_d.rename(columns = {'primary_name':'director'}, inplace = True)\n",
    "\n",
    "df_merge_d.shape"
   ]
  },
  {
   "cell_type": "code",
   "execution_count": 38,
   "id": "fdd92504",
   "metadata": {},
   "outputs": [
    {
     "data": {
      "text/plain": [
       "(81671, 10)"
      ]
     },
     "execution_count": 38,
     "metadata": {},
     "output_type": "execute_result"
    }
   ],
   "source": [
    "#merge producer\n",
    "df_merge_p = df_merge_d.merge(df_producer, left_on='tconst',right_on='tconst',how='inner')\n",
    "df_merge_p.rename(columns = {'primary_name':'producer'}, inplace = True)\n",
    "\n",
    "df_merge_p.shape"
   ]
  },
  {
   "cell_type": "code",
   "execution_count": 39,
   "id": "b1ae07e2",
   "metadata": {},
   "outputs": [
    {
     "data": {
      "text/plain": [
       "(42711, 11)"
      ]
     },
     "execution_count": 39,
     "metadata": {},
     "output_type": "execute_result"
    }
   ],
   "source": [
    "#merge cinematographer\n",
    "df_merge_c = df_merge_p.merge(df_cinematographer, left_on='tconst',right_on='tconst',how='inner')\n",
    "df_merge_c.rename(columns = {'primary_name':'cinematographer'}, inplace = True)\n",
    "\n",
    "df_merge_c.shape"
   ]
  },
  {
   "cell_type": "code",
   "execution_count": 40,
   "id": "f9133ad1",
   "metadata": {},
   "outputs": [
    {
     "data": {
      "text/plain": [
       "(17742, 12)"
      ]
     },
     "execution_count": 40,
     "metadata": {},
     "output_type": "execute_result"
    }
   ],
   "source": [
    "#merge writer\n",
    "df_merge_w = df_merge_c.merge(df_writer, left_on='tconst',right_on='tconst',how='inner')\n",
    "df_merge_w.rename(columns = {'primary_name':'writer'}, inplace = True)\n",
    "\n",
    "df_merge_w.shape"
   ]
  },
  {
   "cell_type": "code",
   "execution_count": 41,
   "id": "f12b24cf",
   "metadata": {},
   "outputs": [
    {
     "data": {
      "text/html": [
       "<div>\n",
       "<style scoped>\n",
       "    .dataframe tbody tr th:only-of-type {\n",
       "        vertical-align: middle;\n",
       "    }\n",
       "\n",
       "    .dataframe tbody tr th {\n",
       "        vertical-align: top;\n",
       "    }\n",
       "\n",
       "    .dataframe thead th {\n",
       "        text-align: right;\n",
       "    }\n",
       "</style>\n",
       "<table border=\"1\" class=\"dataframe\">\n",
       "  <thead>\n",
       "    <tr style=\"text-align: right;\">\n",
       "      <th></th>\n",
       "      <th>tconst</th>\n",
       "      <th>primary_title</th>\n",
       "      <th>original_title</th>\n",
       "      <th>start_year</th>\n",
       "      <th>runtime_minutes</th>\n",
       "      <th>genres</th>\n",
       "      <th>averagerating</th>\n",
       "      <th>numvotes</th>\n",
       "      <th>director</th>\n",
       "      <th>producer</th>\n",
       "      <th>cinematographer</th>\n",
       "      <th>writer</th>\n",
       "    </tr>\n",
       "  </thead>\n",
       "  <tbody>\n",
       "    <tr>\n",
       "      <th>0</th>\n",
       "      <td>tt0146592</td>\n",
       "      <td>Pál Adrienn</td>\n",
       "      <td>Pál Adrienn</td>\n",
       "      <td>2010</td>\n",
       "      <td>136.0</td>\n",
       "      <td>Drama</td>\n",
       "      <td>6.8</td>\n",
       "      <td>451</td>\n",
       "      <td>Ágnes Kocsis</td>\n",
       "      <td>Ferenc Pusztai</td>\n",
       "      <td>Ádám Fillenz</td>\n",
       "      <td>Andrea Roberti</td>\n",
       "    </tr>\n",
       "    <tr>\n",
       "      <th>1</th>\n",
       "      <td>tt0176694</td>\n",
       "      <td>The Tragedy of Man</td>\n",
       "      <td>Az ember tragédiája</td>\n",
       "      <td>2011</td>\n",
       "      <td>160.0</td>\n",
       "      <td>Animation,Drama,History</td>\n",
       "      <td>7.8</td>\n",
       "      <td>584</td>\n",
       "      <td>Marcell Jankovics</td>\n",
       "      <td>Károlyné Koncz</td>\n",
       "      <td>Zoltán Bacsó</td>\n",
       "      <td>Imre Madách</td>\n",
       "    </tr>\n",
       "    <tr>\n",
       "      <th>2</th>\n",
       "      <td>tt0176694</td>\n",
       "      <td>The Tragedy of Man</td>\n",
       "      <td>Az ember tragédiája</td>\n",
       "      <td>2011</td>\n",
       "      <td>160.0</td>\n",
       "      <td>Animation,Drama,History</td>\n",
       "      <td>7.8</td>\n",
       "      <td>584</td>\n",
       "      <td>Marcell Jankovics</td>\n",
       "      <td>Borbála Mezei</td>\n",
       "      <td>Zoltán Bacsó</td>\n",
       "      <td>Imre Madách</td>\n",
       "    </tr>\n",
       "    <tr>\n",
       "      <th>3</th>\n",
       "      <td>tt0293069</td>\n",
       "      <td>Dark Blood</td>\n",
       "      <td>Dark Blood</td>\n",
       "      <td>2012</td>\n",
       "      <td>86.0</td>\n",
       "      <td>Thriller</td>\n",
       "      <td>6.6</td>\n",
       "      <td>1053</td>\n",
       "      <td>George Sluizer</td>\n",
       "      <td>JoAnne Sellar</td>\n",
       "      <td>Edward Lachman</td>\n",
       "      <td>Jim Barton</td>\n",
       "    </tr>\n",
       "    <tr>\n",
       "      <th>4</th>\n",
       "      <td>tt0326592</td>\n",
       "      <td>The Overnight</td>\n",
       "      <td>The Overnight</td>\n",
       "      <td>2010</td>\n",
       "      <td>88.0</td>\n",
       "      <td>NaN</td>\n",
       "      <td>7.5</td>\n",
       "      <td>24</td>\n",
       "      <td>Jed I. Goodman</td>\n",
       "      <td>Sebastian Attie</td>\n",
       "      <td>Roderick E. Stevens</td>\n",
       "      <td>Kacey Arnold</td>\n",
       "    </tr>\n",
       "  </tbody>\n",
       "</table>\n",
       "</div>"
      ],
      "text/plain": [
       "      tconst       primary_title       original_title  start_year  \\\n",
       "0  tt0146592         Pál Adrienn          Pál Adrienn        2010   \n",
       "1  tt0176694  The Tragedy of Man  Az ember tragédiája        2011   \n",
       "2  tt0176694  The Tragedy of Man  Az ember tragédiája        2011   \n",
       "3  tt0293069          Dark Blood           Dark Blood        2012   \n",
       "4  tt0326592       The Overnight        The Overnight        2010   \n",
       "\n",
       "   runtime_minutes                   genres  averagerating  numvotes  \\\n",
       "0            136.0                    Drama            6.8       451   \n",
       "1            160.0  Animation,Drama,History            7.8       584   \n",
       "2            160.0  Animation,Drama,History            7.8       584   \n",
       "3             86.0                 Thriller            6.6      1053   \n",
       "4             88.0                      NaN            7.5        24   \n",
       "\n",
       "            director         producer      cinematographer          writer  \n",
       "0       Ágnes Kocsis   Ferenc Pusztai         Ádám Fillenz  Andrea Roberti  \n",
       "1  Marcell Jankovics   Károlyné Koncz         Zoltán Bacsó     Imre Madách  \n",
       "2  Marcell Jankovics    Borbála Mezei         Zoltán Bacsó     Imre Madách  \n",
       "3     George Sluizer    JoAnne Sellar       Edward Lachman      Jim Barton  \n",
       "4     Jed I. Goodman  Sebastian Attie  Roderick E. Stevens    Kacey Arnold  "
      ]
     },
     "execution_count": 41,
     "metadata": {},
     "output_type": "execute_result"
    }
   ],
   "source": [
    "# lets copy it into a new variable\n",
    "df_imdb_with_names = df_merge_w.copy()\n",
    "df_imdb_with_names.head()"
   ]
  },
  {
   "cell_type": "markdown",
   "id": "8fe8f4cc",
   "metadata": {},
   "source": [
    "_Lets find out if we have any duplicate entries based on tconst and primary_title_"
   ]
  },
  {
   "cell_type": "code",
   "execution_count": 42,
   "id": "568e0071",
   "metadata": {},
   "outputs": [
    {
     "data": {
      "text/plain": [
       "(7358, 12)"
      ]
     },
     "execution_count": 42,
     "metadata": {},
     "output_type": "execute_result"
    }
   ],
   "source": [
    "df_duplicated_tconst = df_imdb_with_names[df_imdb_with_names.duplicated(['tconst'])]\n",
    "df_duplicated_tconst.shape"
   ]
  },
  {
   "cell_type": "markdown",
   "id": "3f18f69e",
   "metadata": {},
   "source": [
    "_We have 7358 duplicated rows which has same value of tconst_"
   ]
  },
  {
   "cell_type": "code",
   "execution_count": 43,
   "id": "66dc2f40",
   "metadata": {},
   "outputs": [
    {
     "data": {
      "text/plain": [
       "(7514, 12)"
      ]
     },
     "execution_count": 43,
     "metadata": {},
     "output_type": "execute_result"
    }
   ],
   "source": [
    "df_duplicated_title = df_imdb_with_names[df_imdb_with_names.duplicated(['primary_title'])]\n",
    "df_duplicated_title.shape"
   ]
  },
  {
   "cell_type": "markdown",
   "id": "ac44bccd",
   "metadata": {},
   "source": [
    "_We have 7514 duplicated rows which has same value of tconst_"
   ]
  },
  {
   "cell_type": "markdown",
   "id": "34efca7e",
   "metadata": {},
   "source": [
    "_Now lets create a subset to drop all the dupicated rows and keep the first row_"
   ]
  },
  {
   "cell_type": "code",
   "execution_count": 44,
   "id": "057125e5",
   "metadata": {},
   "outputs": [
    {
     "data": {
      "text/plain": [
       "(10384, 12)"
      ]
     },
     "execution_count": 44,
     "metadata": {},
     "output_type": "execute_result"
    }
   ],
   "source": [
    "df_imdb_with_names.drop_duplicates(subset=['tconst', 'primary_title'], keep='first',inplace=True)\n",
    "df_imdb_with_names.shape"
   ]
  },
  {
   "cell_type": "markdown",
   "id": "d0b275c0",
   "metadata": {},
   "source": [
    "_Now its time to merge `df_imdb_with_names` with `df_tn_movie_budgets`_"
   ]
  },
  {
   "cell_type": "markdown",
   "id": "a2aeec80",
   "metadata": {},
   "source": [
    "_As `df_tn_movie_budgets` does not have tconst so we have to merge on title._"
   ]
  },
  {
   "cell_type": "markdown",
   "id": "24da41d4",
   "metadata": {},
   "source": [
    "_Before moving forward lets get the SET of titles from each dataset_"
   ]
  },
  {
   "cell_type": "code",
   "execution_count": 45,
   "id": "59bc4527",
   "metadata": {},
   "outputs": [
    {
     "data": {
      "text/plain": [
       "3165"
      ]
     },
     "execution_count": 45,
     "metadata": {},
     "output_type": "execute_result"
    }
   ],
   "source": [
    "tn_movie_budget_values = set(df_tn_movie_budgets['movie'].values) \n",
    "len(tn_movie_budget_values)\n",
    "\n",
    "# there are total 3165 unique movie title in df_tn_movie_budget"
   ]
  },
  {
   "cell_type": "code",
   "execution_count": 46,
   "id": "e9ba4a72",
   "metadata": {},
   "outputs": [
    {
     "data": {
      "text/plain": [
       "10281"
      ]
     },
     "execution_count": 46,
     "metadata": {},
     "output_type": "execute_result"
    }
   ],
   "source": [
    "imdb_with_names_values = set(df_imdb_with_names['original_title'].values) \n",
    "len(imdb_with_names_values)\n",
    "\n",
    "# there are total 10228 unique movie title in df_imdb_with_names"
   ]
  },
  {
   "cell_type": "code",
   "execution_count": 47,
   "id": "d64eb80d",
   "metadata": {},
   "outputs": [
    {
     "data": {
      "text/plain": [
       "2842"
      ]
     },
     "execution_count": 47,
     "metadata": {},
     "output_type": "execute_result"
    }
   ],
   "source": [
    "# movie title present in tn_movie_budget_values but not in imdb_with_names_values\n",
    "\n",
    "diff1 = tn_movie_budget_values - imdb_with_names_values\n",
    "len(diff1)"
   ]
  },
  {
   "cell_type": "code",
   "execution_count": 48,
   "id": "cbaaf887",
   "metadata": {},
   "outputs": [
    {
     "data": {
      "text/plain": [
       "9958"
      ]
     },
     "execution_count": 48,
     "metadata": {},
     "output_type": "execute_result"
    }
   ],
   "source": [
    "# movie title present in imdb_with_names_values but not in tn_movie_budget_values\n",
    "\n",
    "diff2 = imdb_with_names_values - tn_movie_budget_values\n",
    "len(diff2)"
   ]
  },
  {
   "cell_type": "markdown",
   "id": "71f5ae40",
   "metadata": {},
   "source": [
    "_Diffrence Between total movies in tn_movie_budget_values and movies present in tn_movie_budget_values but not in imdb_with_names_values_"
   ]
  },
  {
   "cell_type": "code",
   "execution_count": 49,
   "id": "5d43e02f",
   "metadata": {},
   "outputs": [
    {
     "name": "stdout",
     "output_type": "stream",
     "text": [
      "323\n"
     ]
    }
   ],
   "source": [
    "print(len(tn_movie_budget_values - diff1))"
   ]
  },
  {
   "cell_type": "markdown",
   "id": "d25e2cd3",
   "metadata": {},
   "source": [
    "_Diffrence Between total movies in imdb_with_names_values and movies present in imdb_with_names_values but not in tn_movie_budget_values_"
   ]
  },
  {
   "cell_type": "code",
   "execution_count": 50,
   "id": "f7cedcef",
   "metadata": {},
   "outputs": [
    {
     "name": "stdout",
     "output_type": "stream",
     "text": [
      "323\n"
     ]
    }
   ],
   "source": [
    "print(len(imdb_with_names_values - diff2))"
   ]
  },
  {
   "cell_type": "markdown",
   "id": "b4659c93",
   "metadata": {},
   "source": [
    "_So we have 323 Movies with matching titles in both datasets. so when merged we must see 323 rows_"
   ]
  },
  {
   "cell_type": "code",
   "execution_count": 51,
   "id": "398387f0",
   "metadata": {},
   "outputs": [
    {
     "data": {
      "text/plain": [
       "(338, 18)"
      ]
     },
     "execution_count": 51,
     "metadata": {},
     "output_type": "execute_result"
    }
   ],
   "source": [
    "# Merge df_tn_movie_budgets into df_imdb_with_names\n",
    "\n",
    "df = df_imdb_with_names.merge(df_tn_movie_budgets, left_on='original_title',right_on='movie',how='inner')\n",
    "df.shape"
   ]
  },
  {
   "cell_type": "markdown",
   "id": "6f166758",
   "metadata": {},
   "source": [
    "_Something has to be wrong we were expecting 323 but got 338 instead. Let's check if we have duplicated titles and if we do we need to drop those._"
   ]
  },
  {
   "cell_type": "code",
   "execution_count": 55,
   "id": "94edf01b",
   "metadata": {},
   "outputs": [
    {
     "data": {
      "text/plain": [
       "(15, 18)"
      ]
     },
     "execution_count": 55,
     "metadata": {},
     "output_type": "execute_result"
    }
   ],
   "source": [
    "df_duplicate = df[df.duplicated(['original_title'])].shape\n",
    "df_duplicate"
   ]
  },
  {
   "cell_type": "markdown",
   "id": "5aa820fb",
   "metadata": {},
   "source": [
    "_So there are 15 duplicate rows and we must keep the first row and delete rest._"
   ]
  },
  {
   "cell_type": "code",
   "execution_count": 56,
   "id": "0e560bda",
   "metadata": {},
   "outputs": [
    {
     "data": {
      "text/plain": [
       "(323, 18)"
      ]
     },
     "execution_count": 56,
     "metadata": {},
     "output_type": "execute_result"
    }
   ],
   "source": [
    "df.drop_duplicates(subset=['original_title'], keep='first',inplace=True)\n",
    "df.shape"
   ]
  },
  {
   "cell_type": "markdown",
   "id": "f237e54c",
   "metadata": {},
   "source": [
    "_Looks good now. we got what we expected._"
   ]
  },
  {
   "cell_type": "markdown",
   "id": "05fb5958",
   "metadata": {},
   "source": [
    "In the previous step all we did is match the string and merge else discard and in this process we lost a lot of data. \n",
    "There is something which might help us get something back from the part of data we lost.\n",
    "Lets say for example we have 2 dataframes `df1` and `df2` both have `title` column and we are trying to merge if the title value matches. But what if `df1` has title as 'The fast and the furious' and `df2` has 'fast and the furious' as as both are same movie the only diffrence is that 'THE' is not present in `d2` and we can't afford to loose data just because of some missin characters."
   ]
  },
  {
   "cell_type": "code",
   "execution_count": 57,
   "id": "5a82d2f8",
   "metadata": {},
   "outputs": [],
   "source": [
    "import stringdist as sd"
   ]
  },
  {
   "cell_type": "code",
   "execution_count": 58,
   "id": "e1571387",
   "metadata": {},
   "outputs": [],
   "source": [
    "def leven(string1, string2):\n",
    "    s1=[]\n",
    "    s2=[]\n",
    "    score=[]\n",
    "    for i in string1:\n",
    "        for j in string2:\n",
    "            s1.append(i)\n",
    "            s2.append(j)\n",
    "            score.append(sd.levenshtein_norm(i, j))     \n",
    "    ldf = pd.DataFrame({'s1':s1, 's2':s2, 'score':score})\n",
    "    return ldf"
   ]
  },
  {
   "cell_type": "code",
   "execution_count": 59,
   "id": "7bb9f2b7",
   "metadata": {},
   "outputs": [
    {
     "data": {
      "text/plain": [
       "(28300636, 3)"
      ]
     },
     "execution_count": 59,
     "metadata": {},
     "output_type": "execute_result"
    }
   ],
   "source": [
    "string_match_score = leven(diff1,diff2)\n",
    "string_match_score.shape"
   ]
  },
  {
   "cell_type": "code",
   "execution_count": 60,
   "id": "43a11711",
   "metadata": {},
   "outputs": [
    {
     "data": {
      "text/plain": [
       "(89, 3)"
      ]
     },
     "execution_count": 60,
     "metadata": {},
     "output_type": "execute_result"
    }
   ],
   "source": [
    "string_match_score = string_match_score[string_match_score['score']<0.20]\n",
    "string_match_score.shape"
   ]
  },
  {
   "cell_type": "code",
   "execution_count": 61,
   "id": "c6fa4427",
   "metadata": {},
   "outputs": [],
   "source": [
    "# string_match_score.to_csv('datasets/string_match_score.csv')"
   ]
  },
  {
   "cell_type": "code",
   "execution_count": 62,
   "id": "a59f97dd",
   "metadata": {},
   "outputs": [
    {
     "data": {
      "text/html": [
       "<div>\n",
       "<style scoped>\n",
       "    .dataframe tbody tr th:only-of-type {\n",
       "        vertical-align: middle;\n",
       "    }\n",
       "\n",
       "    .dataframe tbody tr th {\n",
       "        vertical-align: top;\n",
       "    }\n",
       "\n",
       "    .dataframe thead th {\n",
       "        text-align: right;\n",
       "    }\n",
       "</style>\n",
       "<table border=\"1\" class=\"dataframe\">\n",
       "  <thead>\n",
       "    <tr style=\"text-align: right;\">\n",
       "      <th></th>\n",
       "      <th>tconst</th>\n",
       "      <th>primary_title</th>\n",
       "      <th>original_title</th>\n",
       "      <th>start_year</th>\n",
       "      <th>runtime_minutes</th>\n",
       "      <th>genres</th>\n",
       "      <th>averagerating</th>\n",
       "      <th>numvotes</th>\n",
       "      <th>director</th>\n",
       "      <th>producer</th>\n",
       "      <th>...</th>\n",
       "      <th>writer</th>\n",
       "      <th>s1</th>\n",
       "      <th>s2</th>\n",
       "      <th>score</th>\n",
       "      <th>movie</th>\n",
       "      <th>production_budget</th>\n",
       "      <th>domestic_gross</th>\n",
       "      <th>worldwide_gross</th>\n",
       "      <th>year</th>\n",
       "      <th>ROI</th>\n",
       "    </tr>\n",
       "  </thead>\n",
       "  <tbody>\n",
       "    <tr>\n",
       "      <th>0</th>\n",
       "      <td>tt0477302</td>\n",
       "      <td>Extremely Loud &amp; Incredibly Close</td>\n",
       "      <td>Extremely Loud &amp; Incredibly Close</td>\n",
       "      <td>2011</td>\n",
       "      <td>129.0</td>\n",
       "      <td>Adventure,Drama,Mystery</td>\n",
       "      <td>6.9</td>\n",
       "      <td>93164</td>\n",
       "      <td>Stephen Daldry</td>\n",
       "      <td>Scott Rudin</td>\n",
       "      <td>...</td>\n",
       "      <td>Eric Roth</td>\n",
       "      <td>Extremely Loud and Incredibly Close</td>\n",
       "      <td>Extremely Loud &amp; Incredibly Close</td>\n",
       "      <td>0.085714</td>\n",
       "      <td>Extremely Loud and Incredibly Close</td>\n",
       "      <td>40000000</td>\n",
       "      <td>31847881</td>\n",
       "      <td>55247881</td>\n",
       "      <td>2011</td>\n",
       "      <td>38.119703</td>\n",
       "    </tr>\n",
       "    <tr>\n",
       "      <th>1</th>\n",
       "      <td>tt0901504</td>\n",
       "      <td>Psych:9</td>\n",
       "      <td>Psych:9</td>\n",
       "      <td>2010</td>\n",
       "      <td>98.0</td>\n",
       "      <td>Horror,Mystery,Thriller</td>\n",
       "      <td>4.5</td>\n",
       "      <td>2072</td>\n",
       "      <td>Andrew Shortell</td>\n",
       "      <td>Philip Waley</td>\n",
       "      <td>...</td>\n",
       "      <td>Lawrence Robinson</td>\n",
       "      <td>Psych 9</td>\n",
       "      <td>Psych:9</td>\n",
       "      <td>0.142857</td>\n",
       "      <td>Psych 9</td>\n",
       "      <td>5000000</td>\n",
       "      <td>0</td>\n",
       "      <td>0</td>\n",
       "      <td>2010</td>\n",
       "      <td>-100.000000</td>\n",
       "    </tr>\n",
       "    <tr>\n",
       "      <th>2</th>\n",
       "      <td>tt1217613</td>\n",
       "      <td>Battle Los Angeles</td>\n",
       "      <td>Battle Los Angeles</td>\n",
       "      <td>2011</td>\n",
       "      <td>116.0</td>\n",
       "      <td>Action,Sci-Fi</td>\n",
       "      <td>5.8</td>\n",
       "      <td>167052</td>\n",
       "      <td>Jonathan Liebesman</td>\n",
       "      <td>Neal H. Moritz</td>\n",
       "      <td>...</td>\n",
       "      <td>Christopher Bertolini</td>\n",
       "      <td>Battle: Los Angeles</td>\n",
       "      <td>Battle Los Angeles</td>\n",
       "      <td>0.052632</td>\n",
       "      <td>Battle: Los Angeles</td>\n",
       "      <td>70000000</td>\n",
       "      <td>83552429</td>\n",
       "      <td>213463976</td>\n",
       "      <td>2011</td>\n",
       "      <td>204.948537</td>\n",
       "    </tr>\n",
       "    <tr>\n",
       "      <th>3</th>\n",
       "      <td>tt1245492</td>\n",
       "      <td>This Is the End</td>\n",
       "      <td>This Is the End</td>\n",
       "      <td>2013</td>\n",
       "      <td>107.0</td>\n",
       "      <td>Comedy,Fantasy</td>\n",
       "      <td>6.6</td>\n",
       "      <td>360556</td>\n",
       "      <td>Evan Goldberg</td>\n",
       "      <td>James Weaver</td>\n",
       "      <td>...</td>\n",
       "      <td>Jason Stone</td>\n",
       "      <td>This is the End</td>\n",
       "      <td>This Is the End</td>\n",
       "      <td>0.066667</td>\n",
       "      <td>This is the End</td>\n",
       "      <td>32000000</td>\n",
       "      <td>101470202</td>\n",
       "      <td>126539117</td>\n",
       "      <td>2013</td>\n",
       "      <td>295.434741</td>\n",
       "    </tr>\n",
       "    <tr>\n",
       "      <th>4</th>\n",
       "      <td>tt1371150</td>\n",
       "      <td>This Is Where I Leave You</td>\n",
       "      <td>This Is Where I Leave You</td>\n",
       "      <td>2014</td>\n",
       "      <td>103.0</td>\n",
       "      <td>Comedy,Drama</td>\n",
       "      <td>6.6</td>\n",
       "      <td>65202</td>\n",
       "      <td>Shawn Levy</td>\n",
       "      <td>Paula Weinstein</td>\n",
       "      <td>...</td>\n",
       "      <td>Jonathan Tropper</td>\n",
       "      <td>This is Where I Leave You</td>\n",
       "      <td>This Is Where I Leave You</td>\n",
       "      <td>0.040000</td>\n",
       "      <td>This is Where I Leave You</td>\n",
       "      <td>20000000</td>\n",
       "      <td>34296320</td>\n",
       "      <td>41296320</td>\n",
       "      <td>2014</td>\n",
       "      <td>106.481600</td>\n",
       "    </tr>\n",
       "  </tbody>\n",
       "</table>\n",
       "<p>5 rows × 21 columns</p>\n",
       "</div>"
      ],
      "text/plain": [
       "      tconst                      primary_title  \\\n",
       "0  tt0477302  Extremely Loud & Incredibly Close   \n",
       "1  tt0901504                            Psych:9   \n",
       "2  tt1217613                 Battle Los Angeles   \n",
       "3  tt1245492                    This Is the End   \n",
       "4  tt1371150          This Is Where I Leave You   \n",
       "\n",
       "                      original_title  start_year  runtime_minutes  \\\n",
       "0  Extremely Loud & Incredibly Close        2011            129.0   \n",
       "1                            Psych:9        2010             98.0   \n",
       "2                 Battle Los Angeles        2011            116.0   \n",
       "3                    This Is the End        2013            107.0   \n",
       "4          This Is Where I Leave You        2014            103.0   \n",
       "\n",
       "                    genres  averagerating  numvotes            director  \\\n",
       "0  Adventure,Drama,Mystery            6.9     93164      Stephen Daldry   \n",
       "1  Horror,Mystery,Thriller            4.5      2072     Andrew Shortell   \n",
       "2            Action,Sci-Fi            5.8    167052  Jonathan Liebesman   \n",
       "3           Comedy,Fantasy            6.6    360556       Evan Goldberg   \n",
       "4             Comedy,Drama            6.6     65202          Shawn Levy   \n",
       "\n",
       "          producer  ...                 writer  \\\n",
       "0      Scott Rudin  ...              Eric Roth   \n",
       "1     Philip Waley  ...      Lawrence Robinson   \n",
       "2   Neal H. Moritz  ...  Christopher Bertolini   \n",
       "3     James Weaver  ...            Jason Stone   \n",
       "4  Paula Weinstein  ...       Jonathan Tropper   \n",
       "\n",
       "                                    s1                                 s2  \\\n",
       "0  Extremely Loud and Incredibly Close  Extremely Loud & Incredibly Close   \n",
       "1                              Psych 9                            Psych:9   \n",
       "2                  Battle: Los Angeles                 Battle Los Angeles   \n",
       "3                      This is the End                    This Is the End   \n",
       "4            This is Where I Leave You          This Is Where I Leave You   \n",
       "\n",
       "      score                                movie production_budget  \\\n",
       "0  0.085714  Extremely Loud and Incredibly Close          40000000   \n",
       "1  0.142857                              Psych 9           5000000   \n",
       "2  0.052632                  Battle: Los Angeles          70000000   \n",
       "3  0.066667                      This is the End          32000000   \n",
       "4  0.040000            This is Where I Leave You          20000000   \n",
       "\n",
       "   domestic_gross  worldwide_gross  year         ROI  \n",
       "0        31847881         55247881  2011   38.119703  \n",
       "1               0                0  2010 -100.000000  \n",
       "2        83552429        213463976  2011  204.948537  \n",
       "3       101470202        126539117  2013  295.434741  \n",
       "4        34296320         41296320  2014  106.481600  \n",
       "\n",
       "[5 rows x 21 columns]"
      ]
     },
     "execution_count": 62,
     "metadata": {},
     "output_type": "execute_result"
    }
   ],
   "source": [
    "join1 = df_imdb_with_names.merge(string_match_score, left_on='original_title', right_on = 's2', how= 'inner')\n",
    "join2 = join1.merge(df_tn_movie_budgets, left_on=['s1','start_year'], right_on = ['movie','year'], how='inner')\n",
    "\n",
    "join2.head()"
   ]
  },
  {
   "cell_type": "code",
   "execution_count": 63,
   "id": "1810d065",
   "metadata": {},
   "outputs": [],
   "source": [
    "# df_matched_titles = pd.read_csv('datasets/matched_title_data.csv')"
   ]
  },
  {
   "cell_type": "markdown",
   "id": "c400c99e",
   "metadata": {},
   "source": [
    "_We got 22 more movies to add it to our `df` dataframe So lets go and append it._"
   ]
  },
  {
   "cell_type": "code",
   "execution_count": 70,
   "id": "69f97d36",
   "metadata": {},
   "outputs": [
    {
     "data": {
      "text/plain": [
       "(386, 21)"
      ]
     },
     "execution_count": 70,
     "metadata": {},
     "output_type": "execute_result"
    }
   ],
   "source": [
    "df = df.append(join2)\n",
    "df.shape"
   ]
  },
  {
   "cell_type": "markdown",
   "id": "f0204585",
   "metadata": {},
   "source": [
    "_Time to delete unwanted columns and rename_"
   ]
  },
  {
   "cell_type": "code",
   "execution_count": 75,
   "id": "7f76b821",
   "metadata": {},
   "outputs": [],
   "source": [
    "df.drop(['tconst','primary_title','start_year','numvotes','s1','s2','score','movie'], axis=1, inplace=True)"
   ]
  },
  {
   "cell_type": "code",
   "execution_count": 77,
   "id": "19f08416",
   "metadata": {},
   "outputs": [],
   "source": [
    "df.rename(columns = {'original_title':'title','runtime_minutes':'runtime','averagerating':'rating','production_budget':'budget','domestic_gross':'domestic','worldwide_gross':'worldwide'},inplace=True)"
   ]
  },
  {
   "cell_type": "code",
   "execution_count": 78,
   "id": "b22fb23c",
   "metadata": {},
   "outputs": [
    {
     "data": {
      "text/html": [
       "<div>\n",
       "<style scoped>\n",
       "    .dataframe tbody tr th:only-of-type {\n",
       "        vertical-align: middle;\n",
       "    }\n",
       "\n",
       "    .dataframe tbody tr th {\n",
       "        vertical-align: top;\n",
       "    }\n",
       "\n",
       "    .dataframe thead th {\n",
       "        text-align: right;\n",
       "    }\n",
       "</style>\n",
       "<table border=\"1\" class=\"dataframe\">\n",
       "  <thead>\n",
       "    <tr style=\"text-align: right;\">\n",
       "      <th></th>\n",
       "      <th>title</th>\n",
       "      <th>runtime</th>\n",
       "      <th>genres</th>\n",
       "      <th>rating</th>\n",
       "      <th>director</th>\n",
       "      <th>producer</th>\n",
       "      <th>cinematographer</th>\n",
       "      <th>writer</th>\n",
       "      <th>budget</th>\n",
       "      <th>domestic</th>\n",
       "      <th>worldwide</th>\n",
       "      <th>year</th>\n",
       "      <th>ROI</th>\n",
       "    </tr>\n",
       "  </thead>\n",
       "  <tbody>\n",
       "    <tr>\n",
       "      <th>0</th>\n",
       "      <td>The Overnight</td>\n",
       "      <td>88.0</td>\n",
       "      <td>NaN</td>\n",
       "      <td>7.5</td>\n",
       "      <td>Jed I. Goodman</td>\n",
       "      <td>Sebastian Attie</td>\n",
       "      <td>Roderick E. Stevens</td>\n",
       "      <td>Kacey Arnold</td>\n",
       "      <td>200000</td>\n",
       "      <td>1109808</td>\n",
       "      <td>1165996</td>\n",
       "      <td>2015</td>\n",
       "      <td>482.998000</td>\n",
       "    </tr>\n",
       "    <tr>\n",
       "      <th>1</th>\n",
       "      <td>Lincoln</td>\n",
       "      <td>150.0</td>\n",
       "      <td>Biography,Drama,History</td>\n",
       "      <td>7.4</td>\n",
       "      <td>Steven Spielberg</td>\n",
       "      <td>Kathleen Kennedy</td>\n",
       "      <td>Janusz Kaminski</td>\n",
       "      <td>Tony Kushner</td>\n",
       "      <td>65000000</td>\n",
       "      <td>182207973</td>\n",
       "      <td>273346281</td>\n",
       "      <td>2012</td>\n",
       "      <td>320.532740</td>\n",
       "    </tr>\n",
       "    <tr>\n",
       "      <th>2</th>\n",
       "      <td>Season of the Witch</td>\n",
       "      <td>95.0</td>\n",
       "      <td>Action,Adventure,Fantasy</td>\n",
       "      <td>5.4</td>\n",
       "      <td>Dominic Sena</td>\n",
       "      <td>Charles Roven</td>\n",
       "      <td>Amir Mokri</td>\n",
       "      <td>Bragi F. Schut</td>\n",
       "      <td>40000000</td>\n",
       "      <td>24827228</td>\n",
       "      <td>91126600</td>\n",
       "      <td>2011</td>\n",
       "      <td>127.816500</td>\n",
       "    </tr>\n",
       "    <tr>\n",
       "      <th>3</th>\n",
       "      <td>Dallas Buyers Club</td>\n",
       "      <td>117.0</td>\n",
       "      <td>Biography,Drama</td>\n",
       "      <td>8.0</td>\n",
       "      <td>Jean-Marc Vallée</td>\n",
       "      <td>Rachel Winter</td>\n",
       "      <td>Yves Bélanger</td>\n",
       "      <td>Craig Borten</td>\n",
       "      <td>5000000</td>\n",
       "      <td>27298285</td>\n",
       "      <td>60611845</td>\n",
       "      <td>2013</td>\n",
       "      <td>1112.236900</td>\n",
       "    </tr>\n",
       "    <tr>\n",
       "      <th>4</th>\n",
       "      <td>Interstellar</td>\n",
       "      <td>169.0</td>\n",
       "      <td>Adventure,Drama,Sci-Fi</td>\n",
       "      <td>8.6</td>\n",
       "      <td>Christopher Nolan</td>\n",
       "      <td>Emma Thomas</td>\n",
       "      <td>Hoyte Van Hoytema</td>\n",
       "      <td>Jonathan Nolan</td>\n",
       "      <td>165000000</td>\n",
       "      <td>188017894</td>\n",
       "      <td>666379375</td>\n",
       "      <td>2014</td>\n",
       "      <td>303.866288</td>\n",
       "    </tr>\n",
       "  </tbody>\n",
       "</table>\n",
       "</div>"
      ],
      "text/plain": [
       "                 title  runtime                    genres  rating  \\\n",
       "0        The Overnight     88.0                       NaN     7.5   \n",
       "1              Lincoln    150.0   Biography,Drama,History     7.4   \n",
       "2  Season of the Witch     95.0  Action,Adventure,Fantasy     5.4   \n",
       "3   Dallas Buyers Club    117.0           Biography,Drama     8.0   \n",
       "4         Interstellar    169.0    Adventure,Drama,Sci-Fi     8.6   \n",
       "\n",
       "            director          producer      cinematographer          writer  \\\n",
       "0     Jed I. Goodman   Sebastian Attie  Roderick E. Stevens    Kacey Arnold   \n",
       "1   Steven Spielberg  Kathleen Kennedy      Janusz Kaminski    Tony Kushner   \n",
       "2       Dominic Sena     Charles Roven           Amir Mokri  Bragi F. Schut   \n",
       "3   Jean-Marc Vallée     Rachel Winter        Yves Bélanger    Craig Borten   \n",
       "4  Christopher Nolan       Emma Thomas    Hoyte Van Hoytema  Jonathan Nolan   \n",
       "\n",
       "      budget   domestic  worldwide  year          ROI  \n",
       "0     200000    1109808    1165996  2015   482.998000  \n",
       "1   65000000  182207973  273346281  2012   320.532740  \n",
       "2   40000000   24827228   91126600  2011   127.816500  \n",
       "3    5000000   27298285   60611845  2013  1112.236900  \n",
       "4  165000000  188017894  666379375  2014   303.866288  "
      ]
     },
     "execution_count": 78,
     "metadata": {},
     "output_type": "execute_result"
    }
   ],
   "source": [
    "df.head()"
   ]
  }
 ],
 "metadata": {
  "kernelspec": {
   "display_name": "Python 3",
   "language": "python",
   "name": "python3"
  },
  "language_info": {
   "codemirror_mode": {
    "name": "ipython",
    "version": 3
   },
   "file_extension": ".py",
   "mimetype": "text/x-python",
   "name": "python",
   "nbconvert_exporter": "python",
   "pygments_lexer": "ipython3",
   "version": "3.7.10"
  }
 },
 "nbformat": 4,
 "nbformat_minor": 5
}
